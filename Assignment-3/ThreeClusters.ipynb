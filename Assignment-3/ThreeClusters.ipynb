{
 "cells": [
  {
   "cell_type": "markdown",
   "id": "0a6a5607",
   "metadata": {},
   "source": [
    "# Big Data Analytics - 17CS82\n",
    "## Assignment 3 - Three Clusters\n",
    "\n",
    "### Name: Amogh R\n",
    "### USN: 1KS17CS005\n",
    "### Phone: 9972875490\n",
    "### E-mail: amoghpavan5363@gmail.com"
   ]
  },
  {
   "cell_type": "markdown",
   "id": "f2fb85d5",
   "metadata": {},
   "source": [
    "### Input\n",
    "| **Points** | P1 | P2 | P3 | P4 | P5 | P6 | P7 | P8 | P9 | P10 | P11 | P12 |\n",
    "| --- | --- | --- | --- | --- | --- | --- | --- | --- | --- | --- | --- | --- |\n",
    "| **X** | 1 | 2 | 3 | 4 | 5 | 6 | 7 | 8 | 9 | 10 | 11 | 12 |\n",
    "| **Y** | 9 | 1 | 9 | 9 | 7 | 2 | 8 | 7 | 5 | 4 | 9 | 0 |"
   ]
  },
  {
   "cell_type": "code",
   "execution_count": 1,
   "id": "ddaa8a3d",
   "metadata": {},
   "outputs": [
    {
     "data": {
      "image/png": "[encoded data removed]",
      "text/plain": [
       "<Figure size 432x288 with 1 Axes>"
      ]
     },
     "metadata": {
      "needs_background": "light"
     },
     "output_type": "display_data"
    }
   ],
   "source": [
    "# DRAWING A GRAPH FOR THE ABOVE TABLE\n",
    "%matplotlib inline\n",
    "import matplotlib.pyplot as plt\n",
    "import numpy as np\n",
    "\n",
    "x=[1,2,3,4,5,6,7,8,9,10,11,12]\n",
    "y=[9,1,9,9,7,2,8,7,5,4,9,0]\n",
    "\n",
    "plt.scatter(x,y,color='blue',s=8)\n",
    "data=np.array(list(zip(x,y)))"
   ]
  },
  {
   "cell_type": "markdown",
   "id": "380be567",
   "metadata": {},
   "source": [
    "EUCLIDEAN DISTANCE = SQRT [ ( Xi - Xc ) ^ 2 + ( Yi - Yc ) ^ 2 ]<br>\n",
    "Xi = Observed value of X from table<br>\n",
    "Xc = Centroid value of X<br>\n",
    "Yi = Observed value of Y from table<br>\n",
    "Yc = Centroid value of Y<br><br>\n",
    "New Centroid Formula = [ Sum ( Respective Cluster Points ( of K1 or K2 ) + Current Centroid ) / Count ( Cluster Points + 1 ) ]"
   ]
  },
  {
   "cell_type": "code",
   "execution_count": 2,
   "id": "ae5d5db4",
   "metadata": {},
   "outputs": [],
   "source": [
    "# FUNCTION FOR CALCULATING EUCLIDEAN DISTANCE\n",
    "import math\n",
    "def calculateEuclideanDistance(xi, yi, xc, yc):\n",
    "    return math.sqrt(math.pow((xi-xc),2) + math.pow((yi-yc),2))"
   ]
  },
  {
   "cell_type": "markdown",
   "id": "52a91d4c",
   "metadata": {},
   "source": [
    "Given Initial Centroids are:<br>\n",
    "C1 = (1,5) which will be represented by RED star<br>\n",
    "C2 = (6.5,5) which will be represented by YELLOW star<br>\n",
    "C3 = (12,5) which will be represented by GREEN star<br>"
   ]
  },
  {
   "cell_type": "code",
   "execution_count": 3,
   "id": "4dcc9e1f",
   "metadata": {},
   "outputs": [
    {
     "data": {
      "image/png": "[encoded data removed]",
      "text/plain": [
       "<Figure size 432x288 with 1 Axes>"
      ]
     },
     "metadata": {
      "needs_background": "light"
     },
     "output_type": "display_data"
    }
   ],
   "source": [
    "# PLOTTING THE DATAPOINTS ALONG WITH CENTROIDS\n",
    "plt.scatter(x,y,color='blue',s=8)\n",
    "plt.scatter(1, 5, s=150, c='r', marker='*')\n",
    "plt.scatter(6.5, 5, s=150, c='y', marker='*');\n",
    "plt.scatter(12, 5, s=150, c='g', marker='*');"
   ]
  },
  {
   "cell_type": "markdown",
   "id": "7713a0be",
   "metadata": {},
   "source": [
    "## ITERATION 1\n",
    "Centroid 1, C1 = (1,5)<br>\n",
    "Centroid 2, C2 = (6.5,5)<br>\n",
    "Centroid 3, C3 = (12,5)<br>"
   ]
  },
  {
   "cell_type": "code",
   "execution_count": 4,
   "id": "552f66f6",
   "metadata": {},
   "outputs": [
    {
     "name": "stdout",
     "output_type": "stream",
     "text": [
      "4.0\n",
      "6.800735254367722\n",
      "11.704699910719626\n"
     ]
    }
   ],
   "source": [
    "# EUCLIDEAN DISTANCE FOR POINT P1=(1, 9), CENTROIDS=(1,5),(6.5,5) and (12,5)\n",
    "E1 = calculateEuclideanDistance(1, 5, 1, 9)\n",
    "print(E1)\n",
    "E2 = calculateEuclideanDistance(6.5, 5, 1, 9)\n",
    "print(E2)\n",
    "E3 = calculateEuclideanDistance(12, 5, 1, 9)\n",
    "print(E3)"
   ]
  },
  {
   "cell_type": "markdown",
   "id": "5a33825d",
   "metadata": {},
   "source": [
    "Since **E1 < E2 < E3**, P1(1,9) will become part of cluster K1 representing C1 as centroid<br>\n",
    "Therefore,<br>\n",
    "K1 = {P1(1,9)}<br>\n",
    "K2 = {}<br>\n",
    "K3 = {}<br>"
   ]
  },
  {
   "cell_type": "code",
   "execution_count": 6,
   "id": "d856c95f",
   "metadata": {},
   "outputs": [
    {
     "name": "stdout",
     "output_type": "stream",
     "text": [
      "4.123105625617661\n",
      "6.020797289396148\n",
      "10.770329614269007\n"
     ]
    }
   ],
   "source": [
    "# EUCLIDEAN DISTANCE FOR POINT P2=(2, 1), CENTROIDS=(1,5),(6.5,5) and (12,5)\n",
    "E1 = calculateEuclideanDistance(1, 5, 2, 1)\n",
    "print(E1)\n",
    "E2 = calculateEuclideanDistance(6.5, 5, 2, 1)\n",
    "print(E2)\n",
    "E3 = calculateEuclideanDistance(12, 5, 2, 1)\n",
    "print(E3)"
   ]
  },
  {
   "cell_type": "markdown",
   "id": "3b8ffaae",
   "metadata": {},
   "source": [
    "Since **E1 < E2 < E3**, P2(2,1) will become part of cluster K1 representing C1 as centroid<br>\n",
    "Therefore,<br>\n",
    "K1 = {P1(1,9), P2(2,1)}<br>\n",
    "K2 = {}<br>\n",
    "K3 = {}<br>"
   ]
  },
  {
   "cell_type": "code",
   "execution_count": 7,
   "id": "eb7aaac0",
   "metadata": {},
   "outputs": [
    {
     "name": "stdout",
     "output_type": "stream",
     "text": [
      "4.47213595499958\n",
      "5.315072906367325\n",
      "9.848857801796104\n"
     ]
    }
   ],
   "source": [
    "# EUCLIDEAN DISTANCE FOR POINT P3=(3, 9), CENTROIDS=(1,5),(6.5,5) and (12,5)\n",
    "E1 = calculateEuclideanDistance(1, 5, 3, 9)\n",
    "print(E1)\n",
    "E2 = calculateEuclideanDistance(6.5, 5, 3, 9)\n",
    "print(E2)\n",
    "E3 = calculateEuclideanDistance(12, 5, 3, 9)\n",
    "print(E3)"
   ]
  },
  {
   "cell_type": "markdown",
   "id": "8980647d",
   "metadata": {},
   "source": [
    "Since **E1 < E2 < E3**, P3(3,9) will become part of cluster K1 representing C1 as centroid<br>\n",
    "Therefore,<br>\n",
    "K1 = {P1(1,9), P2(2,1), P3(3,9)}<br>\n",
    "K2 = {}<br>\n",
    "K3 = {}<br>"
   ]
  },
  {
   "cell_type": "code",
   "execution_count": 8,
   "id": "949605f1",
   "metadata": {},
   "outputs": [
    {
     "name": "stdout",
     "output_type": "stream",
     "text": [
      "5.0\n",
      "4.716990566028302\n",
      "8.94427190999916\n"
     ]
    }
   ],
   "source": [
    "# EUCLIDEAN DISTANCE FOR POINT P4=(4, 9), CENTROIDS=(1,5),(6.5,5) and (12,5)\n",
    "E1 = calculateEuclideanDistance(1, 5, 4, 9)\n",
    "print(E1)\n",
    "E2 = calculateEuclideanDistance(6.5, 5, 4, 9)\n",
    "print(E2)\n",
    "E3 = calculateEuclideanDistance(12, 5, 4, 9)\n",
    "print(E3)"
   ]
  },
  {
   "cell_type": "markdown",
   "id": "0a15c72b",
   "metadata": {},
   "source": [
    "Since **E2 < E1 < E3**, P4(4,9) will become part of cluster K2 representing C2 as centroid<br>\n",
    "Therefore,<br>\n",
    "K1 = {P1(1,9), P2(2,1), P3(3,9)}<br>\n",
    "K2 = {P4(4,9)}<br>\n",
    "K3 = {}<br>"
   ]
  },
  {
   "cell_type": "code",
   "execution_count": 9,
   "id": "13dd2b34",
   "metadata": {},
   "outputs": [
    {
     "name": "stdout",
     "output_type": "stream",
     "text": [
      "4.47213595499958\n",
      "2.5\n",
      "7.280109889280518\n"
     ]
    }
   ],
   "source": [
    "# EUCLIDEAN DISTANCE FOR POINT P5=(5, 7), CENTROIDS=(1,5),(6.5,5) and (12,5)\n",
    "E1 = calculateEuclideanDistance(1, 5, 5, 7)\n",
    "print(E1)\n",
    "E2 = calculateEuclideanDistance(6.5, 5, 5, 7)\n",
    "print(E2)\n",
    "E3 = calculateEuclideanDistance(12, 5, 5, 7)\n",
    "print(E3)"
   ]
  },
  {
   "cell_type": "markdown",
   "id": "c2cd5e8c",
   "metadata": {},
   "source": [
    "Since **E2 < E1 < E3**, P5(5,7) will become part of cluster K2 representing C2 as centroid<br>\n",
    "Therefore,<br>\n",
    "K1 = {P1(1,9), P2(2,1), P3(3,9)}<br>\n",
    "K2 = {P4(4,9), P5(5,7)}<br>\n",
    "K3 = {}<br>"
   ]
  },
  {
   "cell_type": "code",
   "execution_count": 10,
   "id": "13370169",
   "metadata": {},
   "outputs": [
    {
     "name": "stdout",
     "output_type": "stream",
     "text": [
      "5.830951894845301\n",
      "3.0413812651491097\n",
      "6.708203932499369\n"
     ]
    }
   ],
   "source": [
    "# EUCLIDEAN DISTANCE FOR POINT P6=(6, 2), CENTROIDS=(1,5),(6.5,5) and (12,5)\n",
    "E1 = calculateEuclideanDistance(1, 5, 6, 2)\n",
    "print(E1)\n",
    "E2 = calculateEuclideanDistance(6.5, 5, 6, 2)\n",
    "print(E2)\n",
    "E3 = calculateEuclideanDistance(12, 5, 6, 2)\n",
    "print(E3)"
   ]
  },
  {
   "cell_type": "markdown",
   "id": "6664236d",
   "metadata": {},
   "source": [
    "Since **E2 < E1 < E3**, P6(6,2) will become part of cluster K2 representing C2 as centroid<br>\n",
    "Therefore,<br>\n",
    "K1 = {P1(1,9), P2(2,1), P3(3,9)}<br>\n",
    "K2 = {P4(4,9), P5(5,7), P6(6,2)}<br>\n",
    "K3 = {}<br>"
   ]
  },
  {
   "cell_type": "code",
   "execution_count": 12,
   "id": "738dda43",
   "metadata": {},
   "outputs": [
    {
     "name": "stdout",
     "output_type": "stream",
     "text": [
      "6.708203932499369\n",
      "3.0413812651491097\n",
      "5.830951894845301\n"
     ]
    }
   ],
   "source": [
    "# EUCLIDEAN DISTANCE FOR POINT P7=(7, 8), CENTROIDS=(1,5),(6.5,5) and (12,5)\n",
    "E1 = calculateEuclideanDistance(1, 5, 7, 8)\n",
    "print(E1)\n",
    "E2 = calculateEuclideanDistance(6.5, 5, 7, 8)\n",
    "print(E2)\n",
    "E3 = calculateEuclideanDistance(12, 5, 7, 8)\n",
    "print(E3)"
   ]
  },
  {
   "cell_type": "markdown",
   "id": "a8380891",
   "metadata": {},
   "source": [
    "Since **E2 < E3 < E1**, P7(7,8) will become part of cluster K2 representing C2 as centroid<br>\n",
    "Therefore,<br>\n",
    "K1 = {P1(1,9), P2(2,1), P3(3,9)}<br>\n",
    "K2 = {P4(4,9), P5(5,7), P6(6,2), P7(7,8)}<br>\n",
    "K3 = {}<br>"
   ]
  },
  {
   "cell_type": "code",
   "execution_count": 13,
   "id": "be8e48ba",
   "metadata": {},
   "outputs": [
    {
     "name": "stdout",
     "output_type": "stream",
     "text": [
      "7.280109889280518\n",
      "2.5\n",
      "4.47213595499958\n"
     ]
    }
   ],
   "source": [
    "# EUCLIDEAN DISTANCE FOR POINT P8=(8,7), CENTROIDS=(1,5), (6.5,5) and (12,5)\n",
    "E1 = calculateEuclideanDistance(1, 5, 8, 7)\n",
    "print(E1)\n",
    "E2 = calculateEuclideanDistance(6.5, 5, 8, 7)\n",
    "print(E2)\n",
    "E3 = calculateEuclideanDistance(12, 5, 8, 7)\n",
    "print(E3)"
   ]
  },
  {
   "cell_type": "markdown",
   "id": "11e291c2",
   "metadata": {},
   "source": [
    "Since **E2 < E3 < E1**, P8(8,7) will become part of cluster K2 representing C2 as centroid<br>\n",
    "Therefore,<br>\n",
    "K1 = {P1(1,9), P2(2,1), P3(3,9)}<br>\n",
    "K2 = {P4(4,9), P5(5,7), P6(6,2), P7(7,8), P8(8,7)}<br>\n",
    "K3 = {}<br>"
   ]
  },
  {
   "cell_type": "code",
   "execution_count": 15,
   "id": "2133912b",
   "metadata": {},
   "outputs": [
    {
     "name": "stdout",
     "output_type": "stream",
     "text": [
      "8.0\n",
      "2.5\n",
      "3.0\n"
     ]
    }
   ],
   "source": [
    "# EUCLIDEAN DISTANCE FOR POINT P9=(9,5), CENTROIDS=(1,5), (6.5,5) and (12,5)\n",
    "E1 = calculateEuclideanDistance(1, 5, 9, 5)\n",
    "print(E1)\n",
    "E2 = calculateEuclideanDistance(6.5, 5, 9, 5)\n",
    "print(E2)\n",
    "E3 = calculateEuclideanDistance(12, 5, 9, 5)\n",
    "print(E3)"
   ]
  },
  {
   "cell_type": "markdown",
   "id": "39deb2ba",
   "metadata": {},
   "source": [
    "Since **E2 < E3 < E1**, P9(9,5) will become part of cluster K2 representing C2 as centroid<br>\n",
    "Therefore,<br>\n",
    "K1 = {P1(1,9), P2(2,1), P3(3,9)}<br>\n",
    "K2 = {P4(4,9), P5(5,7), P6(6,2), P7(7,8), P8(8,7), P9(9,5)}<br>\n",
    "K3 = {}<br>"
   ]
  },
  {
   "cell_type": "code",
   "execution_count": 16,
   "id": "e5b9b182",
   "metadata": {},
   "outputs": [
    {
     "name": "stdout",
     "output_type": "stream",
     "text": [
      "9.055385138137417\n",
      "3.640054944640259\n",
      "2.23606797749979\n"
     ]
    }
   ],
   "source": [
    "# EUCLIDEAN DISTANCE FOR POINT P10=(10, 4), CENTROIDS=(1,5), (6.5,5) and (12,5)\n",
    "E1 = calculateEuclideanDistance(1, 5, 10, 4)\n",
    "print(E1)\n",
    "E2 = calculateEuclideanDistance(6.5, 5, 10, 4)\n",
    "print(E2)\n",
    "E3 = calculateEuclideanDistance(12, 5, 10, 4)\n",
    "print(E3)"
   ]
  },
  {
   "cell_type": "markdown",
   "id": "0cb91678",
   "metadata": {},
   "source": [
    "Since **E3 < E2 < E1**, P10(10,4) will become part of cluster K3 representing C3 as centroid<br>\n",
    "Therefore,<br>\n",
    "K1 = {P1(1,9), P2(2,1), P3(3,9)}<br>\n",
    "K2 = {P4(4,9), P5(5,7), P6(6,2), P7(7,8), P8(8,7), P9(9,5)}<br>\n",
    "K3 = {P10(10,4)}<br>"
   ]
  },
  {
   "cell_type": "code",
   "execution_count": 17,
   "id": "6572e5ea",
   "metadata": {},
   "outputs": [
    {
     "name": "stdout",
     "output_type": "stream",
     "text": [
      "10.770329614269007\n",
      "6.020797289396148\n",
      "4.123105625617661\n"
     ]
    }
   ],
   "source": [
    "# EUCLIDEAN DISTANCE FOR POINT P11=(11, 9), CENTROIDS=(1,5), (6.5,5) and (12,5)\n",
    "E1 = calculateEuclideanDistance(1, 5, 11, 9)\n",
    "print(E1)\n",
    "E2 = calculateEuclideanDistance(6.5, 5, 11, 9)\n",
    "print(E2)\n",
    "E3 = calculateEuclideanDistance(12, 5, 11, 9)\n",
    "print(E3)"
   ]
  },
  {
   "cell_type": "markdown",
   "id": "3c8a860e",
   "metadata": {},
   "source": [
    "Since **E3 < E2 < E1**, P11(11,9) will become part of cluster K3 representing C3 as centroid<br>\n",
    "Therefore,<br>\n",
    "K1 = {P1(1,9), P2(2,1), P3(3,9)}<br>\n",
    "K2 = {P4(4,9), P5(5,7), P6(6,2), P7(7,8), P8(8,7), P9(9,5)}<br>\n",
    "K3 = {P10(10,4), P11(11,9)}<br>"
   ]
  },
  {
   "cell_type": "code",
   "execution_count": 18,
   "id": "78a04d52",
   "metadata": {},
   "outputs": [
    {
     "name": "stdout",
     "output_type": "stream",
     "text": [
      "12.083045973594572\n",
      "7.433034373659253\n",
      "5.0\n"
     ]
    }
   ],
   "source": [
    "# EUCLIDEAN DISTANCE FOR POINT P12=(12, 0), CENTROIDS=(1,5), (6.5,5) and (12,5)\n",
    "E1 = calculateEuclideanDistance(1, 5, 12, 0)\n",
    "print(E1)\n",
    "E2 = calculateEuclideanDistance(6.5, 5, 12, 0)\n",
    "print(E2)\n",
    "E3 = calculateEuclideanDistance(12, 5, 12, 0)\n",
    "print(E3)"
   ]
  },
  {
   "cell_type": "markdown",
   "id": "893d0cdd",
   "metadata": {},
   "source": [
    "Since **E3 < E2 < E1**, P12(12,0) will become part of cluster K3 representing C3 as centroid<br>\n",
    "Therefore,<br>\n",
    "K1 = {P1(1,9), P2(2,1), P3(3,9)}<br>\n",
    "K2 = {P4(4,9), P5(5,7), P6(6,2), P7(7,8), P8(8,7), P9(9,5)}<br>\n",
    "K3 = {P10(10,4), P11(11,9), P12(12,0)}<br>"
   ]
  },
  {
   "cell_type": "markdown",
   "id": "f2dec2ea",
   "metadata": {},
   "source": [
    "New Centroid Formula = [ Sum ( Respective Cluster Points ( of K1 or K2 or K3) + Current Centroid ) / Count ( Cluster Points + 1 ) ]<br>\n",
    "Centroid C1(1,5) becomes ((1+2+3+1)/4,(9+1+9+5)/4) => **new C1 is (1.75,6)**<br>\n",
    "Centroid C2(6.5,5) becomes ((4+5+6+7+8+9+6.5)/7,(9+7+2+8+7+5+5)/7) => **new C2 is (6.5,6.14)**<br>\n",
    "Centroid C3(12,5) becomes ((10+11+12+12)/4,(4+9+0+5)/4) => **new C3 is (11.25,4.5)**<br>"
   ]
  },
  {
   "cell_type": "code",
   "execution_count": 21,
   "id": "0698e144",
   "metadata": {},
   "outputs": [
    {
     "data": {
      "image/png": "[encoded data removed]",
      "text/plain": [
       "<Figure size 432x288 with 1 Axes>"
      ]
     },
     "metadata": {
      "needs_background": "light"
     },
     "output_type": "display_data"
    }
   ],
   "source": [
    "# PLOTTING THE DATAPOINTS ALONG WITH NEW CENTROIDS\n",
    "figure, axes = plt.subplots()\n",
    "circle1 = plt.Circle((1.75, 6), 2.5, fill = False)\n",
    "circle2 = plt.Circle((6.5, 6.14), 2.5, fill = False)\n",
    "circle3 = plt.Circle((11.25, 4.5), 2.5, fill = False)\n",
    "axes.set_aspect(1)\n",
    "axes.add_artist(circle1)\n",
    "axes.add_artist(circle2)\n",
    "axes.add_artist(circle3)\n",
    "plt.scatter(x,y,color='blue',s=8)\n",
    "plt.scatter(1.75, 6, s=150, c='r', marker='*')\n",
    "plt.scatter(6.5, 6.14, s=150, c='y', marker='*')\n",
    "plt.scatter(11.25, 4.5, s=150, c='g', marker='*')\n",
    "plt.show()"
   ]
  },
  {
   "cell_type": "markdown",
   "id": "0765a3d7",
   "metadata": {},
   "source": [
    "## ITERATION 2\n",
    "Centroid 1, C1 = (1.75,6)<br>\n",
    "Centroid 2, C2 = (6.5,6.14)<br>\n",
    "Centroid 3, C3 = (11.25,4.5)<br>"
   ]
  },
  {
   "cell_type": "code",
   "execution_count": 35,
   "id": "552f66f6",
   "metadata": {},
   "outputs": [
    {
     "name": "stdout",
     "output_type": "stream",
     "text": [
      "3.092329219213245\n",
      "6.199161233586363\n",
      "11.194306588619055\n"
     ]
    }
   ],
   "source": [
    "# EUCLIDEAN DISTANCE FOR POINT P1=(1, 9), CENTROIDS=(1.75,6), (6.5,6.14) and (11.25,4.5)\n",
    "E1 = calculateEuclideanDistance(1.75, 6, 1, 9)\n",
    "print(E1)\n",
    "E2 = calculateEuclideanDistance(6.5, 6.14, 1, 9)\n",
    "print(E2)\n",
    "E3 = calculateEuclideanDistance(11.25, 4.5, 1, 9)\n",
    "print(E3)"
   ]
  },
  {
   "cell_type": "markdown",
   "id": "5a33825d",
   "metadata": {},
   "source": [
    "Since **E1 < E2 < E3**, P1(1,9) will become part of cluster K1 representing C1 as centroid<br>\n",
    "Therefore,<br>\n",
    "K1 = {P1(1,9)}<br>\n",
    "K2 = {}<br>\n",
    "K3 = {}<br>"
   ]
  },
  {
   "cell_type": "code",
   "execution_count": 36,
   "id": "d856c95f",
   "metadata": {},
   "outputs": [
    {
     "name": "stdout",
     "output_type": "stream",
     "text": [
      "5.006246098625197\n",
      "6.83151520528206\n",
      "9.89002022242624\n"
     ]
    }
   ],
   "source": [
    "# EUCLIDEAN DISTANCE FOR POINT P2=(2, 1), CENTROIDS=(1.75,6), (6.5,6.14) and (11.25,4.5)\n",
    "E1 = calculateEuclideanDistance(1.75, 6, 2, 1)\n",
    "print(E1)\n",
    "E2 = calculateEuclideanDistance(6.5, 6.14, 2, 1)\n",
    "print(E2)\n",
    "E3 = calculateEuclideanDistance(11.25, 4.5, 2, 1)\n",
    "print(E3)"
   ]
  },
  {
   "cell_type": "markdown",
   "id": "3b8ffaae",
   "metadata": {},
   "source": [
    "Since **E1 < E2 < E3**, P2(2,1) will become part of cluster K1 representing C1 as centroid<br>\n",
    "Therefore,<br>\n",
    "K1 = {P1(1,9), P2(2,1)}<br>\n",
    "K2 = {}<br>\n",
    "K3 = {}<br>"
   ]
  },
  {
   "cell_type": "code",
   "execution_count": 38,
   "id": "eb7aaac0",
   "metadata": {},
   "outputs": [
    {
     "name": "stdout",
     "output_type": "stream",
     "text": [
      "3.25\n",
      "4.519911503558449\n",
      "9.39747306460625\n"
     ]
    }
   ],
   "source": [
    "# EUCLIDEAN DISTANCE FOR POINT P3=(3, 9), CENTROIDS=(1.75,6), (6.5,6.14) and (11.25,4.5)\n",
    "E1 = calculateEuclideanDistance(1.75, 6, 3, 9)\n",
    "print(E1)\n",
    "E2 = calculateEuclideanDistance(6.5, 6.14, 3, 9)\n",
    "print(E2)\n",
    "E3 = calculateEuclideanDistance(11.25, 4.5, 3, 9)\n",
    "print(E3)"
   ]
  },
  {
   "cell_type": "markdown",
   "id": "8980647d",
   "metadata": {},
   "source": [
    "Since **E1 < E2 < E3**, P3(3,9) will become part of cluster K1 representing C1 as centroid<br>\n",
    "Therefore,<br>\n",
    "K1 = {P1(1,9), P2(2,1), P3(3,9)}<br>\n",
    "K2 = {}<br>\n",
    "K3 = {}<br>"
   ]
  },
  {
   "cell_type": "code",
   "execution_count": 39,
   "id": "949605f1",
   "metadata": {},
   "outputs": [
    {
     "name": "stdout",
     "output_type": "stream",
     "text": [
      "3.75\n",
      "3.7986313324669982\n",
      "8.533024082938006\n"
     ]
    }
   ],
   "source": [
    "# EUCLIDEAN DISTANCE FOR POINT P4=(4, 9), CENTROIDS=(1.75,6), (6.5,6.14) and (11.25,4.5)\n",
    "E1 = calculateEuclideanDistance(1.75, 6, 4, 9)\n",
    "print(E1)\n",
    "E2 = calculateEuclideanDistance(6.5, 6.14, 4, 9)\n",
    "print(E2)\n",
    "E3 = calculateEuclideanDistance(11.25, 4.5, 4, 9)\n",
    "print(E3)"
   ]
  },
  {
   "cell_type": "markdown",
   "id": "0a15c72b",
   "metadata": {},
   "source": [
    "Since **E1 < E2 < E3**, P4(4,9) will become part of cluster K1 representing C1 as centroid<br>\n",
    "Therefore,<br>\n",
    "K1 = {P1(1,9), P2(2,1), P3(3,9), P4(4,9)}<br>\n",
    "K2 = {}<br>\n",
    "K3 = {}<br>"
   ]
  },
  {
   "cell_type": "code",
   "execution_count": 40,
   "id": "13dd2b34",
   "metadata": {},
   "outputs": [
    {
     "name": "stdout",
     "output_type": "stream",
     "text": [
      "3.400367627183861\n",
      "1.7290459797240791\n",
      "6.73145600891813\n"
     ]
    }
   ],
   "source": [
    "# EUCLIDEAN DISTANCE FOR POINT P5=(5, 7), CENTROIDS=(1.75,6), (6.5,6.14) and (11.25,4.5)\n",
    "E1 = calculateEuclideanDistance(1.75, 6, 5, 7)\n",
    "print(E1)\n",
    "E2 = calculateEuclideanDistance(6.5, 6.14, 5, 7)\n",
    "print(E2)\n",
    "E3 = calculateEuclideanDistance(11.25, 4.5, 5, 7)\n",
    "print(E3)"
   ]
  },
  {
   "cell_type": "markdown",
   "id": "c2cd5e8c",
   "metadata": {},
   "source": [
    "Since **E2 < E1 < E3**, P5(5,7) will become part of cluster K2 representing C2 as centroid<br>\n",
    "Therefore,<br>\n",
    "K1 = {P1(1,9), P2(2,1), P3(3,9), P4(4,9)}<br>\n",
    "K2 = {P5(5,7)}<br>\n",
    "K3 = {}<br>"
   ]
  },
  {
   "cell_type": "code",
   "execution_count": 41,
   "id": "13370169",
   "metadata": {},
   "outputs": [
    {
     "name": "stdout",
     "output_type": "stream",
     "text": [
      "5.836308764964376\n",
      "4.170083932009042\n",
      "5.814851674806504\n"
     ]
    }
   ],
   "source": [
    "# EUCLIDEAN DISTANCE FOR POINT P6=(6, 2), CENTROIDS=(1.75,6), (6.5,6.14) and (11.25,4.5)\n",
    "E1 = calculateEuclideanDistance(1.75, 6, 6, 2)\n",
    "print(E1)\n",
    "E2 = calculateEuclideanDistance(6.5, 6.14, 6, 2)\n",
    "print(E2)\n",
    "E3 = calculateEuclideanDistance(11.25, 4.5, 6, 2)\n",
    "print(E3)"
   ]
  },
  {
   "cell_type": "markdown",
   "id": "6664236d",
   "metadata": {},
   "source": [
    "Since **E2 < E1 < E3**, P6(6,2) will become part of cluster K2 representing C2 as centroid<br>\n",
    "Therefore,<br>\n",
    "K1 = {P1(1,9), P2(2,1), P3(3,9), P4(4,9)}<br>\n",
    "K2 = {P5(5,7), P6(6,2)}<br>\n",
    "K3 = {}<br>"
   ]
  },
  {
   "cell_type": "code",
   "execution_count": 42,
   "id": "738dda43",
   "metadata": {},
   "outputs": [
    {
     "name": "stdout",
     "output_type": "stream",
     "text": [
      "5.618051263561058\n",
      "1.926032190800559\n",
      "5.50567888638631\n"
     ]
    }
   ],
   "source": [
    "# EUCLIDEAN DISTANCE FOR POINT P7=(7, 8), CENTROIDS=(1.75,6), (6.5,6.14) and (11.25,4.5)\n",
    "E1 = calculateEuclideanDistance(1.75, 6, 7, 8)\n",
    "print(E1)\n",
    "E2 = calculateEuclideanDistance(6.5, 6.14, 7, 8)\n",
    "print(E2)\n",
    "E3 = calculateEuclideanDistance(11.25, 4.5, 7, 8)\n",
    "print(E3)"
   ]
  },
  {
   "cell_type": "markdown",
   "id": "a8380891",
   "metadata": {},
   "source": [
    "Since **E2 < E3 < E1**, P7(7,8) will become part of cluster K2 representing C2 as centroid<br>\n",
    "Therefore,<br>\n",
    "K1 = {P1(1,9), P2(2,1), P3(3,9), P4(4,9)}<br>\n",
    "K2 = {P5(5,7), P6(6,2), P7(7,8)}<br>\n",
    "K3 = {}<br>"
   ]
  },
  {
   "cell_type": "code",
   "execution_count": 43,
   "id": "be8e48ba",
   "metadata": {},
   "outputs": [
    {
     "name": "stdout",
     "output_type": "stream",
     "text": [
      "6.329494450586082\n",
      "1.7290459797240791\n",
      "4.100304866714182\n"
     ]
    }
   ],
   "source": [
    "# EUCLIDEAN DISTANCE FOR POINT P8=(8,7), CENTROIDS=(1.75,6), (6.5,6.14) and (11.25,4.5)\n",
    "E1 = calculateEuclideanDistance(1.75, 6, 8, 7)\n",
    "print(E1)\n",
    "E2 = calculateEuclideanDistance(6.5, 6.14, 8, 7)\n",
    "print(E2)\n",
    "E3 = calculateEuclideanDistance(11.25, 4.5, 8, 7)\n",
    "print(E3)"
   ]
  },
  {
   "cell_type": "markdown",
   "id": "11e291c2",
   "metadata": {},
   "source": [
    "Since **E2 < E3 < E1**, P8(8,7) will become part of cluster K2 representing C2 as centroid<br>\n",
    "Therefore,<br>\n",
    "K1 = {P1(1,9), P2(2,1), P3(3,9), P4(4,9)}<br>\n",
    "K2 = {P5(5,7), P6(6,2), P7(7,8), P8(8,7)}<br>\n",
    "K3 = {}<br>"
   ]
  },
  {
   "cell_type": "code",
   "execution_count": 44,
   "id": "2133912b",
   "metadata": {},
   "outputs": [
    {
     "name": "stdout",
     "output_type": "stream",
     "text": [
      "7.318640584152224\n",
      "2.7476535443901944\n",
      "2.3048861143232218\n"
     ]
    }
   ],
   "source": [
    "# EUCLIDEAN DISTANCE FOR POINT P9=(9,5), CENTROIDS=(1.75,6), (6.5,6.14) and (11.25,4.5)\n",
    "E1 = calculateEuclideanDistance(1.75, 6, 9, 5)\n",
    "print(E1)\n",
    "E2 = calculateEuclideanDistance(6.5, 6.14, 9, 5)\n",
    "print(E2)\n",
    "E3 = calculateEuclideanDistance(11.25, 4.5, 9, 5)\n",
    "print(E3)"
   ]
  },
  {
   "cell_type": "markdown",
   "id": "39deb2ba",
   "metadata": {},
   "source": [
    "Since **E3 < E2 < E1**, P9(9,5) will become part of cluster K3 representing C3 as centroid<br>\n",
    "Therefore,<br>\n",
    "K1 = {P1(1,9), P2(2,1), P3(3,9), P4(4,9)}<br>\n",
    "K2 = {P5(5,7), P6(6,2), P7(7,8), P8(8,7)}<br>\n",
    "K3 = {P9(9,5)}<br>"
   ]
  },
  {
   "cell_type": "code",
   "execution_count": 45,
   "id": "e5b9b182",
   "metadata": {
    "scrolled": true
   },
   "outputs": [
    {
     "name": "stdout",
     "output_type": "stream",
     "text": [
      "8.488963423174823\n",
      "4.102389547568587\n",
      "1.346291201783626\n"
     ]
    }
   ],
   "source": [
    "# EUCLIDEAN DISTANCE FOR POINT P10=(10, 4), CENTROIDS=(1.75,6), (6.5,6.14) and (11.25,4.5)\n",
    "E1 = calculateEuclideanDistance(1.75, 6, 10, 4)\n",
    "print(E1)\n",
    "E2 = calculateEuclideanDistance(6.5, 6.14, 10, 4)\n",
    "print(E2)\n",
    "E3 = calculateEuclideanDistance(11.25, 4.5, 10, 4)\n",
    "print(E3)"
   ]
  },
  {
   "cell_type": "markdown",
   "id": "0cb91678",
   "metadata": {},
   "source": [
    "Since **E3 < E2 < E1**, P10(10,4) will become part of cluster K3 representing C3 as centroid<br>\n",
    "Therefore,<br>\n",
    "K1 = {P1(1,9), P2(2,1), P3(3,9), P4(4,9)}<br>\n",
    "K2 = {P5(5,7), P6(6,2), P7(7,8), P8(8,7)}<br>\n",
    "K3 = {P9(9,5), P10(10,4)}<br>"
   ]
  },
  {
   "cell_type": "code",
   "execution_count": 46,
   "id": "6572e5ea",
   "metadata": {},
   "outputs": [
    {
     "name": "stdout",
     "output_type": "stream",
     "text": [
      "9.724325169388361\n",
      "5.331941485050263\n",
      "4.5069390943299865\n"
     ]
    }
   ],
   "source": [
    "# EUCLIDEAN DISTANCE FOR POINT P11=(11, 9), CENTROIDS=(1.75,6), (6.5,6.14) and (11.25,4.5)\n",
    "E1 = calculateEuclideanDistance(1.75, 6, 11, 9)\n",
    "print(E1)\n",
    "E2 = calculateEuclideanDistance(6.5, 6.14, 11, 9)\n",
    "print(E2)\n",
    "E3 = calculateEuclideanDistance(11.25, 4.5, 11, 9)\n",
    "print(E3)"
   ]
  },
  {
   "cell_type": "markdown",
   "id": "3c8a860e",
   "metadata": {},
   "source": [
    "Since **E3 < E2 < E1**, P11(11,9) will become part of cluster K3 representing C3 as centroid<br>\n",
    "Therefore,<br>\n",
    "K1 = {P1(1,9), P2(2,1), P3(3,9), P4(4,9)}<br>\n",
    "K2 = {P5(5,7), P6(6,2), P7(7,8), P8(8,7)}<br>\n",
    "K3 = {P9(9,5), P10(10,4), P11(11,9)}<br>"
   ]
  },
  {
   "cell_type": "code",
   "execution_count": 48,
   "id": "78a04d52",
   "metadata": {},
   "outputs": [
    {
     "name": "stdout",
     "output_type": "stream",
     "text": [
      "11.876973520219703\n",
      "8.243154735900571\n",
      "4.562071897723665\n"
     ]
    }
   ],
   "source": [
    "# EUCLIDEAN DISTANCE FOR POINT P12=(12, 0), CENTROIDS=(1.75,6), (6.5,6.14) and (11.25,4.5)\n",
    "E1 = calculateEuclideanDistance(1.75, 6, 12, 0)\n",
    "print(E1)\n",
    "E2 = calculateEuclideanDistance(6.5, 6.14, 12, 0)\n",
    "print(E2)\n",
    "E3 = calculateEuclideanDistance(11.25, 4.5, 12, 0)\n",
    "print(E3)"
   ]
  },
  {
   "cell_type": "markdown",
   "id": "893d0cdd",
   "metadata": {},
   "source": [
    "Since **E3 < E2 < E1**, P12(12,0) will become part of cluster K3 representing C3 as centroid<br>\n",
    "Therefore,<br>\n",
    "K1 = {P1(1,9), P2(2,1), P3(3,9), P4(4,9)}<br>\n",
    "K2 = {P5(5,7), P6(6,2), P7(7,8), P8(8,7)}<br>\n",
    "K3 = {P9(9,5), P10(10,4), P11(11,9), P12(12,0)}<br>"
   ]
  },
  {
   "cell_type": "markdown",
   "id": "f2dec2ea",
   "metadata": {},
   "source": [
    "New Centroid Formula = [ Sum ( Respective Cluster Points ( of K1 or K2 or K3) + Current Centroid ) / Count ( Cluster Points + 1 ) ]<br>\n",
    "Centroid C1(1,5) becomes ((1+2+3+4+1.75)/5,(9+1+9+9+6)/5) => **new C1 is (2.35,6.8)**<br>\n",
    "Centroid C2(6.5,5) becomes ((5+6+7+8+6.5)/5,(7+2+8+7+6.14)/5) => **new C2 is (6.5,6.03)**<br>\n",
    "Centroid C3(12,5) becomes ((9+10+11+12+11.25)/5,(5+4+9+0+4.5)/5) => **new C3 is (10.65,4.5)**<br>"
   ]
  },
  {
   "cell_type": "code",
   "execution_count": 50,
   "id": "0698e144",
   "metadata": {},
   "outputs": [
    {
     "data": {
      "image/png": "[encoded data removed]",
      "text/plain": [
       "<Figure size 432x288 with 1 Axes>"
      ]
     },
     "metadata": {
      "needs_background": "light"
     },
     "output_type": "display_data"
    }
   ],
   "source": [
    "# PLOTTING THE DATAPOINTS ALONG WITH NEW CENTROIDS\n",
    "figure, axes = plt.subplots()\n",
    "circle1 = plt.Circle((2.35,6.8), 2.2, fill = False)\n",
    "circle2 = plt.Circle((6.5,6.03), 2.2, fill = False)\n",
    "circle3 = plt.Circle((10.65,4.5), 2.2, fill = False)\n",
    "axes.set_aspect(1)\n",
    "axes.add_artist(circle1)\n",
    "axes.add_artist(circle2)\n",
    "axes.add_artist(circle3)\n",
    "plt.scatter(x,y,color='blue',s=8)\n",
    "plt.scatter(2.35, 6.8, s=150, c='r', marker='*')\n",
    "plt.scatter(6.5, 6.03, s=150, c='y', marker='*')\n",
    "plt.scatter(10.65, 4.5, s=150, c='g', marker='*')\n",
    "plt.show()"
   ]
  },
  {
   "cell_type": "markdown",
   "id": "7713a0be",
   "metadata": {},
   "source": [
    "## ITERATION 3\n",
    "Centroid 1, C1 = (2.35,6.8)<br>\n",
    "Centroid 2, C2 = (6.5,6.03)<br>\n",
    "Centroid 3, C3 = (10.65,4.5)<br>"
   ]
  },
  {
   "cell_type": "code",
   "execution_count": 51,
   "id": "552f66f6",
   "metadata": {},
   "outputs": [
    {
     "name": "stdout",
     "output_type": "stream",
     "text": [
      "2.581181899828062\n",
      "6.2506719638771635\n",
      "10.647652323399745\n"
     ]
    }
   ],
   "source": [
    "# EUCLIDEAN DISTANCE FOR POINT P1=(1, 9), CENTROIDS=(2.35,6.8), (6.5,6.03) and (10.65,4.5)\n",
    "E1 = calculateEuclideanDistance(2.35, 6.8, 1, 9)\n",
    "print(E1)\n",
    "E2 = calculateEuclideanDistance(6.5, 6.03, 1, 9)\n",
    "print(E2)\n",
    "E3 = calculateEuclideanDistance(10.65, 4.5, 1, 9)\n",
    "print(E3)"
   ]
  },
  {
   "cell_type": "markdown",
   "id": "5a33825d",
   "metadata": {},
   "source": [
    "Since **E1 < E2 < E3**, P1(1,9) will become part of cluster K1 representing C1 as centroid<br>\n",
    "Therefore,<br>\n",
    "K1 = {P1(1,9)}<br>\n",
    "K2 = {}<br>\n",
    "K3 = {}<br>"
   ]
  },
  {
   "cell_type": "code",
   "execution_count": 52,
   "id": "d856c95f",
   "metadata": {},
   "outputs": [
    {
     "name": "stdout",
     "output_type": "stream",
     "text": [
      "5.810550748423079\n",
      "6.749140686042928\n",
      "9.331264651696468\n"
     ]
    }
   ],
   "source": [
    "# EUCLIDEAN DISTANCE FOR POINT P2=(2, 1), CENTROIDS=(2.35,6.8), (6.5,6.03) and (10.65,4.5)\n",
    "E1 = calculateEuclideanDistance(2.35, 6.8, 2, 1)\n",
    "print(E1)\n",
    "E2 = calculateEuclideanDistance(6.5, 6.03, 2, 1)\n",
    "print(E2)\n",
    "E3 = calculateEuclideanDistance(10.65, 4.5, 2, 1)\n",
    "print(E3)"
   ]
  },
  {
   "cell_type": "markdown",
   "id": "3b8ffaae",
   "metadata": {},
   "source": [
    "Since **E1 < E2 < E3**, P2(2,1) will become part of cluster K1 representing C1 as centroid<br>\n",
    "Therefore,<br>\n",
    "K1 = {P1(1,9), P2(2,1)}<br>\n",
    "K2 = {}<br>\n",
    "K3 = {}<br>"
   ]
  },
  {
   "cell_type": "code",
   "execution_count": 53,
   "id": "eb7aaac0",
   "metadata": {},
   "outputs": [
    {
     "name": "stdout",
     "output_type": "stream",
     "text": [
      "2.2940139493908926\n",
      "4.590305000759753\n",
      "8.87538731549221\n"
     ]
    }
   ],
   "source": [
    "# EUCLIDEAN DISTANCE FOR POINT P3=(3, 9), CENTROIDS=(2.35,6.8), (6.5,6.03) and (10.65,4.5)\n",
    "E1 = calculateEuclideanDistance(2.35, 6.8, 3, 9)\n",
    "print(E1)\n",
    "E2 = calculateEuclideanDistance(6.5, 6.03, 3, 9)\n",
    "print(E2)\n",
    "E3 = calculateEuclideanDistance(10.65, 4.5, 3, 9)\n",
    "print(E3)"
   ]
  },
  {
   "cell_type": "markdown",
   "id": "8980647d",
   "metadata": {},
   "source": [
    "Since **E1 < E2 < E3**, P3(3,9) will become part of cluster K1 representing C1 as centroid<br>\n",
    "Therefore,<br>\n",
    "K1 = {P1(1,9), P2(2,1), P3(3,9)}<br>\n",
    "K2 = {}<br>\n",
    "K3 = {}<br>"
   ]
  },
  {
   "cell_type": "code",
   "execution_count": 54,
   "id": "949605f1",
   "metadata": {},
   "outputs": [
    {
     "name": "stdout",
     "output_type": "stream",
     "text": [
      "2.75\n",
      "3.88212570636243\n",
      "8.029476944359452\n"
     ]
    }
   ],
   "source": [
    "# EUCLIDEAN DISTANCE FOR POINT P4=(4, 9), CENTROIDS=(2.35,6.8), (6.5,6.03) and (10.65,4.5)\n",
    "E1 = calculateEuclideanDistance(2.35, 6.8, 4, 9)\n",
    "print(E1)\n",
    "E2 = calculateEuclideanDistance(6.5, 6.03, 4, 9)\n",
    "print(E2)\n",
    "E3 = calculateEuclideanDistance(10.65, 4.5, 4, 9)\n",
    "print(E3)"
   ]
  },
  {
   "cell_type": "markdown",
   "id": "0a15c72b",
   "metadata": {},
   "source": [
    "Since **E1 < E2 < E3**, P4(4,9) will become part of cluster K1 representing C1 as centroid<br>\n",
    "Therefore,<br>\n",
    "K1 = {P1(1,9), P2(2,1), P3(3,9), P4(4,9)}<br>\n",
    "K2 = {}<br>\n",
    "K3 = {}<br>"
   ]
  },
  {
   "cell_type": "code",
   "execution_count": 55,
   "id": "13dd2b34",
   "metadata": {},
   "outputs": [
    {
     "name": "stdout",
     "output_type": "stream",
     "text": [
      "2.6575364531836625\n",
      "1.7863090438107285\n",
      "6.178389757857625\n"
     ]
    }
   ],
   "source": [
    "# EUCLIDEAN DISTANCE FOR POINT P5=(5, 7), CENTROIDS=(2.35,6.8), (6.5,6.03) and (10.65,4.5)\n",
    "E1 = calculateEuclideanDistance(2.35, 6.8, 5, 7)\n",
    "print(E1)\n",
    "E2 = calculateEuclideanDistance(6.5, 6.03, 5, 7)\n",
    "print(E2)\n",
    "E3 = calculateEuclideanDistance(10.65, 4.5, 5, 7)\n",
    "print(E3)"
   ]
  },
  {
   "cell_type": "markdown",
   "id": "c2cd5e8c",
   "metadata": {},
   "source": [
    "Since **E2 < E1 < E3**, P5(5,7) will become part of cluster K2 representing C2 as centroid<br>\n",
    "Therefore,<br>\n",
    "K1 = {P1(1,9), P2(2,1), P3(3,9), P4(4,9)}<br>\n",
    "K2 = {P5(5,7)}<br>\n",
    "K3 = {}<br>"
   ]
  },
  {
   "cell_type": "code",
   "execution_count": 56,
   "id": "13370169",
   "metadata": {},
   "outputs": [
    {
     "name": "stdout",
     "output_type": "stream",
     "text": [
      "6.030132668523969\n",
      "4.060898915264945\n",
      "5.279441258315126\n"
     ]
    }
   ],
   "source": [
    "# EUCLIDEAN DISTANCE FOR POINT P6=(6, 2), CENTROIDS=(2.35,6.8), (6.5,6.03) and (10.65,4.5)\n",
    "E1 = calculateEuclideanDistance(2.35, 6.8, 6, 2)\n",
    "print(E1)\n",
    "E2 = calculateEuclideanDistance(6.5, 6.03, 6, 2)\n",
    "print(E2)\n",
    "E3 = calculateEuclideanDistance(10.65, 4.5, 6, 2)\n",
    "print(E3)"
   ]
  },
  {
   "cell_type": "markdown",
   "id": "6664236d",
   "metadata": {},
   "source": [
    "Since **E2 < E1 < E3**, P6(6,2) will become part of cluster K2 representing C2 as centroid<br>\n",
    "Therefore,<br>\n",
    "K1 = {P1(1,9), P2(2,1), P3(3,9), P4(4,9)}<br>\n",
    "K2 = {P5(5,7), P6(6,2)}<br>\n",
    "K3 = {}<br>"
   ]
  },
  {
   "cell_type": "code",
   "execution_count": 57,
   "id": "738dda43",
   "metadata": {},
   "outputs": [
    {
     "name": "stdout",
     "output_type": "stream",
     "text": [
      "4.802343178074637\n",
      "2.0324615617521524\n",
      "5.056925943693462\n"
     ]
    }
   ],
   "source": [
    "# EUCLIDEAN DISTANCE FOR POINT P7=(7, 8), CENTROIDS=(2.35,6.8), (6.5,6.03) and (10.65,4.5)\n",
    "E1 = calculateEuclideanDistance(2.35, 6.8, 7, 8)\n",
    "print(E1)\n",
    "E2 = calculateEuclideanDistance(6.5, 6.03, 7, 8)\n",
    "print(E2)\n",
    "E3 = calculateEuclideanDistance(10.65, 4.5, 7, 8)\n",
    "print(E3)"
   ]
  },
  {
   "cell_type": "markdown",
   "id": "a8380891",
   "metadata": {},
   "source": [
    "Since **E2 < E3 < E1**, P7(7,8) will become part of cluster K2 representing C2 as centroid<br>\n",
    "Therefore,<br>\n",
    "K1 = {P1(1,9), P2(2,1), P3(3,9), P4(4,9)}<br>\n",
    "K2 = {P5(5,7), P6(6,2), P7(7,8)}<br>\n",
    "K3 = {}<br>"
   ]
  },
  {
   "cell_type": "code",
   "execution_count": 58,
   "id": "be8e48ba",
   "metadata": {},
   "outputs": [
    {
     "name": "stdout",
     "output_type": "stream",
     "text": [
      "5.653538714822779\n",
      "1.7863090438107285\n",
      "3.643144246389374\n"
     ]
    }
   ],
   "source": [
    "# EUCLIDEAN DISTANCE FOR POINT P8=(8,7), CENTROIDS=(2.35,6.8), (6.5,6.03) and (10.65,4.5)\n",
    "E1 = calculateEuclideanDistance(2.35, 6.8, 8, 7)\n",
    "print(E1)\n",
    "E2 = calculateEuclideanDistance(6.5, 6.03, 8, 7)\n",
    "print(E2)\n",
    "E3 = calculateEuclideanDistance(10.65, 4.5, 8, 7)\n",
    "print(E3)"
   ]
  },
  {
   "cell_type": "markdown",
   "id": "11e291c2",
   "metadata": {},
   "source": [
    "Since **E2 < E3 < E1**, P8(8,7) will become part of cluster K2 representing C2 as centroid<br>\n",
    "Therefore,<br>\n",
    "K1 = {P1(1,9), P2(2,1), P3(3,9), P4(4,9)}<br>\n",
    "K2 = {P5(5,7), P6(6,2), P7(7,8), P8(8,7)}<br>\n",
    "K3 = {}<br>"
   ]
  },
  {
   "cell_type": "code",
   "execution_count": 59,
   "id": "2133912b",
   "metadata": {},
   "outputs": [
    {
     "name": "stdout",
     "output_type": "stream",
     "text": [
      "6.889303302947258\n",
      "2.7038676003088615\n",
      "1.7240939649566671\n"
     ]
    }
   ],
   "source": [
    "# EUCLIDEAN DISTANCE FOR POINT P9=(9,5), CENTROIDS=(2.35,6.8), (6.5,6.03) and (10.65,4.5)\n",
    "E1 = calculateEuclideanDistance(2.35, 6.8, 9, 5)\n",
    "print(E1)\n",
    "E2 = calculateEuclideanDistance(6.5, 6.03, 9, 5)\n",
    "print(E2)\n",
    "E3 = calculateEuclideanDistance(10.65, 4.5, 9, 5)\n",
    "print(E3)"
   ]
  },
  {
   "cell_type": "markdown",
   "id": "39deb2ba",
   "metadata": {},
   "source": [
    "Since **E3 < E2 < E1**, P9(9,5) will become part of cluster K3 representing C3 as centroid<br>\n",
    "Therefore,<br>\n",
    "K1 = {P1(1,9), P2(2,1), P3(3,9), P4(4,9)}<br>\n",
    "K2 = {P5(5,7), P6(6,2), P7(7,8), P8(8,7)}<br>\n",
    "K3 = {P9(9,5)}<br>"
   ]
  },
  {
   "cell_type": "code",
   "execution_count": 60,
   "id": "e5b9b182",
   "metadata": {
    "scrolled": true
   },
   "outputs": [
    {
     "name": "stdout",
     "output_type": "stream",
     "text": [
      "8.146318186763883\n",
      "4.046096884653159\n",
      "0.8200609733428366\n"
     ]
    }
   ],
   "source": [
    "# EUCLIDEAN DISTANCE FOR POINT P10=(10, 4), CENTROIDS=(2.35,6.8), (6.5,6.03) and (10.65,4.5)\n",
    "E1 = calculateEuclideanDistance(2.35, 6.8, 10, 4)\n",
    "print(E1)\n",
    "E2 = calculateEuclideanDistance(6.5, 6.03, 10, 4)\n",
    "print(E2)\n",
    "E3 = calculateEuclideanDistance(10.65, 4.5, 10, 4)\n",
    "print(E3)"
   ]
  },
  {
   "cell_type": "markdown",
   "id": "0cb91678",
   "metadata": {},
   "source": [
    "Since **E3 < E2 < E1**, P10(10,4) will become part of cluster K3 representing C3 as centroid<br>\n",
    "Therefore,<br>\n",
    "K1 = {P1(1,9), P2(2,1), P3(3,9), P4(4,9)}<br>\n",
    "K2 = {P5(5,7), P6(6,2), P7(7,8), P8(8,7)}<br>\n",
    "K3 = {P9(9,5), P10(10,4)}<br>"
   ]
  },
  {
   "cell_type": "code",
   "execution_count": 61,
   "id": "6572e5ea",
   "metadata": {},
   "outputs": [
    {
     "name": "stdout",
     "output_type": "stream",
     "text": [
      "8.925385145751415\n",
      "5.391743688270057\n",
      "4.513590588434002\n"
     ]
    }
   ],
   "source": [
    "# EUCLIDEAN DISTANCE FOR POINT P11=(11, 9), CENTROIDS=(2.35,6.8), (6.5,6.03) and (10.65,4.5)\n",
    "E1 = calculateEuclideanDistance(2.35, 6.8, 11, 9)\n",
    "print(E1)\n",
    "E2 = calculateEuclideanDistance(6.5, 6.03, 11, 9)\n",
    "print(E2)\n",
    "E3 = calculateEuclideanDistance(10.65, 4.5, 11, 9)\n",
    "print(E3)"
   ]
  },
  {
   "cell_type": "markdown",
   "id": "3c8a860e",
   "metadata": {},
   "source": [
    "Since **E3 < E2 < E1**, P11(11,9) will become part of cluster K3 representing C3 as centroid<br>\n",
    "Therefore,<br>\n",
    "K1 = {P1(1,9), P2(2,1), P3(3,9), P4(4,9)}<br>\n",
    "K2 = {P5(5,7), P6(6,2), P7(7,8), P8(8,7)}<br>\n",
    "K3 = {P9(9,5), P10(10,4), P11(11,9)}<br>"
   ]
  },
  {
   "cell_type": "code",
   "execution_count": 62,
   "id": "78a04d52",
   "metadata": {},
   "outputs": [
    {
     "name": "stdout",
     "output_type": "stream",
     "text": [
      "11.80518953680965\n",
      "8.161550097867439\n",
      "4.698137929009747\n"
     ]
    }
   ],
   "source": [
    "# EUCLIDEAN DISTANCE FOR POINT P12=(12, 0), CENTROIDS=(2.35,6.8), (6.5,6.03) and (10.65,4.5)\n",
    "E1 = calculateEuclideanDistance(2.35, 6.8, 12, 0)\n",
    "print(E1)\n",
    "E2 = calculateEuclideanDistance(6.5, 6.03, 12, 0)\n",
    "print(E2)\n",
    "E3 = calculateEuclideanDistance(10.65, 4.5, 12, 0)\n",
    "print(E3)"
   ]
  },
  {
   "cell_type": "markdown",
   "id": "893d0cdd",
   "metadata": {},
   "source": [
    "Since **E3 < E2 < E1**, P12(12,0) will become part of cluster K3 representing C3 as centroid<br>\n",
    "Therefore,<br>\n",
    "K1 = {P1(1,9), P2(2,1), P3(3,9), P4(4,9)}<br>\n",
    "K2 = {P5(5,7), P6(6,2), P7(7,8), P8(8,7)}<br>\n",
    "K3 = {P9(9,5), P10(10,4), P11(11,9), P12(12,0)}<br>"
   ]
  },
  {
   "cell_type": "markdown",
   "id": "f2dec2ea",
   "metadata": {},
   "source": [
    "New Centroid Formula = [ Sum ( Respective Cluster Points ( of K1 or K2 or K3) + Current Centroid ) / Count ( Cluster Points + 1 ) ]<br>\n",
    "Centroid C1(1,5) becomes ((1+2+3+4+2.35)/5,(9+1+9+9+6.8)/5) => **new C1 is (2.47,6.96)**<br>\n",
    "Centroid C2(6.5,5) becomes ((5+6+7+8+6.5)/5,(7+2+8+7+6.03)/5) => **new C2 is (6.5,6)**<br>\n",
    "Centroid C3(12,5) becomes ((9+10+11+12+10.65)/5,(5+4+9+0+4.5)/5) => **new C3 is (10.53,4.5)**<br>"
   ]
  },
  {
   "cell_type": "code",
   "execution_count": 63,
   "id": "0698e144",
   "metadata": {},
   "outputs": [
    {
     "data": {
      "image/png": "[encoded data removed]",
      "text/plain": [
       "<Figure size 432x288 with 1 Axes>"
      ]
     },
     "metadata": {
      "needs_background": "light"
     },
     "output_type": "display_data"
    }
   ],
   "source": [
    "# PLOTTING THE DATAPOINTS ALONG WITH NEW CENTROIDS\n",
    "figure, axes = plt.subplots()\n",
    "circle1 = plt.Circle((2.47,6.96), 2.2, fill = False)\n",
    "circle2 = plt.Circle((6.5,6), 2.2, fill = False)\n",
    "circle3 = plt.Circle((10.53,4.5), 2.2, fill = False)\n",
    "axes.set_aspect(1)\n",
    "axes.add_artist(circle1)\n",
    "axes.add_artist(circle2)\n",
    "axes.add_artist(circle3)\n",
    "plt.scatter(x,y,color='blue',s=8)\n",
    "plt.scatter(2.47, 6.96, s=150, c='r', marker='*')\n",
    "plt.scatter(6.5, 6, s=150, c='y', marker='*')\n",
    "plt.scatter(10.53, 4.5, s=150, c='g', marker='*')\n",
    "plt.show()"
   ]
  },
  {
   "cell_type": "markdown",
   "id": "b5509269",
   "metadata": {},
   "source": [
    "##### Initial Centroids\n",
    "C1 = (1,5)<br>\n",
    "C2 = (6.5,5)<br>\n",
    "C3 = (12,5)<br>\n",
    "\n",
    "##### Centroids after Iteration 1\n",
    "C1 = (2.35,6.8)<br>\n",
    "C2 = (6.5,6.03)<br>\n",
    "C3 = (10.65,4.5)<br>\n",
    "\n",
    "##### Centroids after Iteration 2\n",
    "C1 = (2.47,6.96)<br>\n",
    "C2 = (6.5,6)<br>\n",
    "C3 = (10.53,4.5)<br>\n",
    "\n",
    "We see that the centroids are stabilising at this point, hence the iterations have been stopped here."
   ]
  }
 ],
 "metadata": {
  "kernelspec": {
   "display_name": "Python 3",
   "language": "python",
   "name": "python3"
  },
  "language_info": {
   "codemirror_mode": {
    "name": "ipython",
    "version": 3
   },
   "file_extension": ".py",
   "mimetype": "text/x-python",
   "name": "python",
   "nbconvert_exporter": "python",
   "pygments_lexer": "ipython3",
   "version": "3.7.10"
  }
 },
 "nbformat": 4,
 "nbformat_minor": 5
}
