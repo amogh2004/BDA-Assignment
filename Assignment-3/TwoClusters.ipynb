{
 "cells": [
  {
   "cell_type": "markdown",
   "id": "0a6a5607",
   "metadata": {},
   "source": [
    "# Big Data Analytics - 17CS82\n",
    "## Assignment 3 - Two Clusters\n",
    "\n",
    "### Name: Amogh R\n",
    "### USN: 1KS17CS005\n",
    "### Phone: 9972875490\n",
    "### E-mail: amoghpavan5363@gmail.com"
   ]
  },
  {
   "cell_type": "markdown",
   "id": "f2fb85d5",
   "metadata": {},
   "source": [
    "### Input\n",
    "| **Points** | P1 | P2 | P3 | P4 | P5 | P6 | P7 | P8 | P9 | P10 | P11 | P12 |\n",
    "| --- | --- | --- | --- | --- | --- | --- | --- | --- | --- | --- | --- | --- |\n",
    "| **X** | 1 | 2 | 3 | 4 | 5 | 6 | 7 | 8 | 9 | 10 | 11 | 12 |\n",
    "| **Y** | 9 | 1 | 9 | 9 | 7 | 2 | 8 | 7 | 5 | 4 | 9 | 0 |"
   ]
  },
  {
   "cell_type": "code",
   "execution_count": 1,
   "id": "ddaa8a3d",
   "metadata": {},
   "outputs": [
    {
     "data": {
      "image/png": "[encoded data removed]",
      "text/plain": [
       "<Figure size 432x288 with 1 Axes>"
      ]
     },
     "metadata": {
      "needs_background": "light"
     },
     "output_type": "display_data"
    }
   ],
   "source": [
    "# DRAWING A GRAPH FOR THE ABOVE TABLE\n",
    "%matplotlib inline\n",
    "import matplotlib.pyplot as plt\n",
    "import numpy as np\n",
    "\n",
    "x=[1,2,3,4,5,6,7,8,9,10,11,12]\n",
    "y=[9,1,9,9,7,2,8,7,5,4,9,0]\n",
    "\n",
    "plt.scatter(x,y,color='blue',s=8)\n",
    "data=np.array(list(zip(x,y)))"
   ]
  },
  {
   "cell_type": "markdown",
   "id": "380be567",
   "metadata": {},
   "source": [
    "EUCLIDEAN DISTANCE = SQRT [ ( Xi - Xc ) ^ 2 + ( Yi - Yc ) ^ 2 ]<br>\n",
    "Xi = Observed value of X from table<br>\n",
    "Xc = Centroid value of X<br>\n",
    "Yi = Observed value of Y from table<br>\n",
    "Yc = Centroid value of Y<br><br>\n",
    "New Centroid Formula = [ Sum ( Respective Cluster Points ( of K1 or K2 ) + Current Centroid ) / Count ( Cluster Points + 1 ) ]"
   ]
  },
  {
   "cell_type": "code",
   "execution_count": 2,
   "id": "ae5d5db4",
   "metadata": {},
   "outputs": [],
   "source": [
    "# FUNCTION FOR CALCULATING EUCLIDEAN DISTANCE\n",
    "import math\n",
    "def calculateEuclideanDistance(xi, yi, xc, yc):\n",
    "    return math.sqrt(math.pow((xi-xc),2) + math.pow((yi-yc),2))"
   ]
  },
  {
   "cell_type": "markdown",
   "id": "52a91d4c",
   "metadata": {},
   "source": [
    "Given Initial Centroids are:<br>\n",
    "C1 = (1,5) which will be represented by RED star<br>\n",
    "C2 = (12,5) which will be represented by YELLOW star<br>"
   ]
  },
  {
   "cell_type": "code",
   "execution_count": 3,
   "id": "4dcc9e1f",
   "metadata": {},
   "outputs": [
    {
     "data": {
      "image/png": "[encoded data removed]",
      "text/plain": [
       "<Figure size 432x288 with 1 Axes>"
      ]
     },
     "metadata": {
      "needs_background": "light"
     },
     "output_type": "display_data"
    }
   ],
   "source": [
    "# PLOTTING THE DATAPOINTS ALONG WITH CENTROIDS\n",
    "plt.scatter(x,y,color='blue',s=8)\n",
    "plt.scatter(1, 5, s=150, c='r', marker='*')\n",
    "plt.scatter(12, 5, s=150, c='y', marker='*');"
   ]
  },
  {
   "cell_type": "markdown",
   "id": "7713a0be",
   "metadata": {},
   "source": [
    "## ITERATION 1\n",
    "Centroid 1, C1 = (1,5)<br>\n",
    "Centroid 2, C2 = (12,5)<br>"
   ]
  },
  {
   "cell_type": "code",
   "execution_count": 4,
   "id": "552f66f6",
   "metadata": {},
   "outputs": [
    {
     "name": "stdout",
     "output_type": "stream",
     "text": [
      "4.0\n",
      "11.704699910719626\n"
     ]
    }
   ],
   "source": [
    "# EUCLIDEAN DISTANCE FOR POINT P1=(1, 9), CENTROIDS=(1,5) AND (12,5)\n",
    "E1 = calculateEuclideanDistance(1, 5, 1, 9)\n",
    "print(E1)\n",
    "E2 = calculateEuclideanDistance(12, 5, 1, 9)\n",
    "print(E2)"
   ]
  },
  {
   "cell_type": "markdown",
   "id": "5a33825d",
   "metadata": {},
   "source": [
    "Since **E1 < E2**, P1(1,9) will become part of cluster K1 representing C1 as centroid<br>\n",
    "Therefore,<br>\n",
    "K1 = {P1(1,9)}<br>\n",
    "K2 = {}<br>"
   ]
  },
  {
   "cell_type": "code",
   "execution_count": 5,
   "id": "d856c95f",
   "metadata": {},
   "outputs": [
    {
     "name": "stdout",
     "output_type": "stream",
     "text": [
      "4.123105625617661\n",
      "10.770329614269007\n"
     ]
    }
   ],
   "source": [
    "# EUCLIDEAN DISTANCE FOR POINT P2=(2, 1), CENTROIDS=(1,5) AND (12,5)\n",
    "E1 = calculateEuclideanDistance(1, 5, 2, 1)\n",
    "print(E1)\n",
    "E2 = calculateEuclideanDistance(12, 5, 2, 1)\n",
    "print(E2)"
   ]
  },
  {
   "cell_type": "markdown",
   "id": "3b8ffaae",
   "metadata": {},
   "source": [
    "Since **E1 < E2**, P2(2,1) will become part of cluster K1 representing C1 as centroid<br>\n",
    "Therefore,<br>\n",
    "K1 = {P1(1,9), P2(2,1)}<br>\n",
    "K2 = {}<br>"
   ]
  },
  {
   "cell_type": "code",
   "execution_count": 6,
   "id": "eb7aaac0",
   "metadata": {},
   "outputs": [
    {
     "name": "stdout",
     "output_type": "stream",
     "text": [
      "4.47213595499958\n",
      "9.848857801796104\n"
     ]
    }
   ],
   "source": [
    "# EUCLIDEAN DISTANCE FOR POINT P3=(3, 9), CENTROIDS=(1,5) AND (12,5)\n",
    "E1 = calculateEuclideanDistance(1, 5, 3, 9)\n",
    "print(E1)\n",
    "E2 = calculateEuclideanDistance(12, 5, 3, 9)\n",
    "print(E2)"
   ]
  },
  {
   "cell_type": "markdown",
   "id": "8980647d",
   "metadata": {},
   "source": [
    "Since **E1 < E2**, P3(3,9) will become part of cluster K1 representing C1 as centroid<br>\n",
    "Therefore,<br>\n",
    "K1 = {P1(1,9), P2(2,1), P3(3,9)}<br>\n",
    "K2 = {}<br>"
   ]
  },
  {
   "cell_type": "code",
   "execution_count": 7,
   "id": "949605f1",
   "metadata": {},
   "outputs": [
    {
     "name": "stdout",
     "output_type": "stream",
     "text": [
      "5.0\n",
      "8.94427190999916\n"
     ]
    }
   ],
   "source": [
    "# EUCLIDEAN DISTANCE FOR POINT P4=(4, 9), CENTROIDS=(1,5) AND (12,5)\n",
    "E1 = calculateEuclideanDistance(1, 5, 4, 9)\n",
    "print(E1)\n",
    "E2 = calculateEuclideanDistance(12, 5, 4, 9)\n",
    "print(E2)"
   ]
  },
  {
   "cell_type": "markdown",
   "id": "0a15c72b",
   "metadata": {},
   "source": [
    "Since **E1 < E2**, P4(4,9) will become part of cluster K1 representing C1 as centroid<br>\n",
    "Therefore,<br>\n",
    "K1 = {P1(1,9), P2(2,1), P3(3,9), P4(4,9)}<br>\n",
    "K2 = {}<br>"
   ]
  },
  {
   "cell_type": "code",
   "execution_count": 8,
   "id": "13dd2b34",
   "metadata": {},
   "outputs": [
    {
     "name": "stdout",
     "output_type": "stream",
     "text": [
      "4.47213595499958\n",
      "7.280109889280518\n"
     ]
    }
   ],
   "source": [
    "# EUCLIDEAN DISTANCE FOR POINT P5=(5, 7), CENTROIDS=(1,5) AND (12,5)\n",
    "E1 = calculateEuclideanDistance(1, 5, 5, 7)\n",
    "print(E1)\n",
    "E2 = calculateEuclideanDistance(12, 5, 5, 7)\n",
    "print(E2)"
   ]
  },
  {
   "cell_type": "markdown",
   "id": "c2cd5e8c",
   "metadata": {},
   "source": [
    "Since **E1 < E2**, P5(4,9) will become part of cluster K1 representing C1 as centroid<br>\n",
    "Therefore,<br>\n",
    "K1 = {P1(1,9), P2(2,1), P3(3,9), P4(4,9), P5(5,7)}<br>\n",
    "K2 = {}<br>"
   ]
  },
  {
   "cell_type": "code",
   "execution_count": 9,
   "id": "13370169",
   "metadata": {},
   "outputs": [
    {
     "name": "stdout",
     "output_type": "stream",
     "text": [
      "5.830951894845301\n",
      "6.708203932499369\n"
     ]
    }
   ],
   "source": [
    "# EUCLIDEAN DISTANCE FOR POINT P6=(6, 2), CENTROIDS=(1,5) AND (12,5)\n",
    "E1 = calculateEuclideanDistance(1, 5, 6, 2)\n",
    "print(E1)\n",
    "E2 = calculateEuclideanDistance(12, 5, 6, 2)\n",
    "print(E2)"
   ]
  },
  {
   "cell_type": "markdown",
   "id": "6664236d",
   "metadata": {},
   "source": [
    "Since **E1 < E2**, P6(4,9) will become part of cluster K1 representing C1 as centroid<br>\n",
    "Therefore,<br>\n",
    "K1 = {P1(1,9), P2(2,1), P3(3,9), P4(4,9), P5(5,7), P6(6,2)}<br>\n",
    "K2 = {}<br>"
   ]
  },
  {
   "cell_type": "code",
   "execution_count": 10,
   "id": "738dda43",
   "metadata": {},
   "outputs": [
    {
     "name": "stdout",
     "output_type": "stream",
     "text": [
      "6.708203932499369\n",
      "5.830951894845301\n"
     ]
    }
   ],
   "source": [
    "# EUCLIDEAN DISTANCE FOR POINT P7=(7, 8), CENTROIDS=(1,5) AND (12,5)\n",
    "E1 = calculateEuclideanDistance(1, 5, 7, 8)\n",
    "print(E1)\n",
    "E2 = calculateEuclideanDistance(12, 5, 7, 8)\n",
    "print(E2)"
   ]
  },
  {
   "cell_type": "markdown",
   "id": "a8380891",
   "metadata": {},
   "source": [
    "Since **E2 < E1**, P7(7,8) will become part of cluster K2 representing C2 as centroid<br>\n",
    "Therefore,<br>\n",
    "K1 = {P1(1,9), P2(2,1), P3(3,9), P4(4,9), P5(5,7), P6(6,2)}<br>\n",
    "K2 = {P7(7,8)}<br>"
   ]
  },
  {
   "cell_type": "code",
   "execution_count": 11,
   "id": "be8e48ba",
   "metadata": {},
   "outputs": [
    {
     "name": "stdout",
     "output_type": "stream",
     "text": [
      "7.280109889280518\n",
      "4.47213595499958\n"
     ]
    }
   ],
   "source": [
    "# EUCLIDEAN DISTANCE FOR POINT P8=(8, 7), CENTROIDS=(1,5) AND (12,5)\n",
    "E1 = calculateEuclideanDistance(1, 5, 8, 7)\n",
    "print(E1)\n",
    "E2 = calculateEuclideanDistance(12, 5, 8, 7)\n",
    "print(E2)"
   ]
  },
  {
   "cell_type": "markdown",
   "id": "11e291c2",
   "metadata": {},
   "source": [
    "Since **E2 < E1**, P8(6,2) will become part of cluster K2 representing C2 as centroid<br>\n",
    "Therefore,<br>\n",
    "K1 = {P1(1,9), P2(2,1), P3(3,9), P4(4,9), P5(5,7), P6(6,2)}<br>\n",
    "K2 = {P7(7,8), P8(8,7)}<br>"
   ]
  },
  {
   "cell_type": "code",
   "execution_count": 12,
   "id": "2133912b",
   "metadata": {},
   "outputs": [
    {
     "name": "stdout",
     "output_type": "stream",
     "text": [
      "8.0\n",
      "3.0\n"
     ]
    }
   ],
   "source": [
    "# EUCLIDEAN DISTANCE FOR POINT P9=(9, 5), CENTROIDS=(1,5) AND (12,5)\n",
    "E1 = calculateEuclideanDistance(1, 5, 9, 5)\n",
    "print(E1)\n",
    "E2 = calculateEuclideanDistance(12, 5, 9, 5)\n",
    "print(E2)"
   ]
  },
  {
   "cell_type": "markdown",
   "id": "39deb2ba",
   "metadata": {},
   "source": [
    "Since **E2 < E1**, P9(9,5) will become part of cluster K2 representing C2 as centroid<br>\n",
    "Therefore,<br>\n",
    "K1 = {P1(1,9), P2(2,1), P3(3,9), P4(4,9), P5(5,7), P6(6,2)}<br>\n",
    "K2 = {P7(7,8), P8(8,7), P9(9,5)}<br>"
   ]
  },
  {
   "cell_type": "code",
   "execution_count": 13,
   "id": "e5b9b182",
   "metadata": {},
   "outputs": [
    {
     "name": "stdout",
     "output_type": "stream",
     "text": [
      "9.055385138137417\n",
      "2.23606797749979\n"
     ]
    }
   ],
   "source": [
    "# EUCLIDEAN DISTANCE FOR POINT P10=(10, 4), CENTROIDS=(1,5) AND (12,5)\n",
    "E1 = calculateEuclideanDistance(1, 5, 10, 4)\n",
    "print(E1)\n",
    "E2 = calculateEuclideanDistance(12, 5, 10, 4)\n",
    "print(E2)"
   ]
  },
  {
   "cell_type": "markdown",
   "id": "0cb91678",
   "metadata": {},
   "source": [
    "Since **E2 < E1**, P10(10,4) will become part of cluster K2 representing C2 as centroid<br>\n",
    "Therefore,<br>\n",
    "K1 = {P1(1,9), P2(2,1), P3(3,9), P4(4,9), P5(5,7), P6(6,2)}<br>\n",
    "K2 = {P7(7,8), P8(8,7), P9(9,5), P10(10,4)}<br>"
   ]
  },
  {
   "cell_type": "code",
   "execution_count": 14,
   "id": "6572e5ea",
   "metadata": {},
   "outputs": [
    {
     "name": "stdout",
     "output_type": "stream",
     "text": [
      "10.770329614269007\n",
      "4.123105625617661\n"
     ]
    }
   ],
   "source": [
    "# EUCLIDEAN DISTANCE FOR POINT P11=(11, 9), CENTROIDS=(1,5) AND (12,5)\n",
    "E1 = calculateEuclideanDistance(1, 5, 11, 9)\n",
    "print(E1)\n",
    "E2 = calculateEuclideanDistance(12, 5, 11, 9)\n",
    "print(E2)"
   ]
  },
  {
   "cell_type": "markdown",
   "id": "3c8a860e",
   "metadata": {},
   "source": [
    "Since **E2 < E1**, P11(11,9) will become part of cluster K2 representing C2 as centroid<br>\n",
    "Therefore,<br>\n",
    "K1 = {P1(1,9), P2(2,1), P3(3,9), P4(4,9), P5(5,7), P6(6,2)}<br>\n",
    "K2 = {P7(7,8), P8(8,7), P9(9,5), P10(10,4), P11(11,9)}<br>"
   ]
  },
  {
   "cell_type": "code",
   "execution_count": 15,
   "id": "78a04d52",
   "metadata": {},
   "outputs": [
    {
     "name": "stdout",
     "output_type": "stream",
     "text": [
      "12.083045973594572\n",
      "5.0\n"
     ]
    }
   ],
   "source": [
    "# EUCLIDEAN DISTANCE FOR POINT P12=(12, 0), CENTROIDS=(1,5) AND (12,5)\n",
    "E1 = calculateEuclideanDistance(1, 5, 12, 0)\n",
    "print(E1)\n",
    "E2 = calculateEuclideanDistance(12, 5, 12, 0)\n",
    "print(E2)"
   ]
  },
  {
   "cell_type": "markdown",
   "id": "893d0cdd",
   "metadata": {},
   "source": [
    "Since **E2 < E1**, P12(12,0) will become part of cluster K2 representing C2 as centroid<br>\n",
    "Therefore,<br>\n",
    "K1 = {P1(1,9), P2(2,1), P3(3,9), P4(4,9), P5(5,7), P6(6,2)}<br>\n",
    "K2 = {P7(7,8), P8(8,7), P9(9,5), P10(10,4), P11(11,9), P12(12,0)}<br>"
   ]
  },
  {
   "cell_type": "markdown",
   "id": "f2dec2ea",
   "metadata": {},
   "source": [
    "New Centroid Formula = [ Sum ( Respective Cluster Points ( of K1 or K2 ) + Current Centroid ) / Count ( Cluster Points + 1 ) ]<br>\n",
    "Centroid C1(1,5) becomes ((1+2+3+4+5+6+1)/7,(9+1+9+9+7+2+5)/7) => **new C1 is (3.14,6)**<br>\n",
    "Centroid C2(12,5) becomes ((7+8+9+10+11+12+12)/7,(8+7+5+4+9+0+5)/7) => **new C2 is (9.86,5.43)**<br>"
   ]
  },
  {
   "cell_type": "code",
   "execution_count": 16,
   "id": "0698e144",
   "metadata": {},
   "outputs": [
    {
     "data": {
      "image/png": "[encoded data removed]",
      "text/plain": [
       "<Figure size 432x288 with 1 Axes>"
      ]
     },
     "metadata": {
      "needs_background": "light"
     },
     "output_type": "display_data"
    }
   ],
   "source": [
    "# PLOTTING THE DATAPOINTS ALONG WITH NEW CENTROIDS\n",
    "figure, axes = plt.subplots()\n",
    "circle1 = plt.Circle((3.49, 6), 3.8, fill = False)\n",
    "circle2 = plt.Circle((9.86, 5.43), 3.8, fill = False)\n",
    "axes.set_aspect(1)\n",
    "axes.add_artist(circle1)\n",
    "axes.add_artist(circle2)\n",
    "plt.scatter(x,y,color='blue',s=8)\n",
    "plt.scatter(3.49, 6, s=150, c='r', marker='*')\n",
    "plt.scatter(9.86, 5.43, s=150, c='y', marker='*')\n",
    "plt.show()"
   ]
  },
  {
   "cell_type": "markdown",
   "id": "865c61b7",
   "metadata": {},
   "source": [
    "## ITERATION 2\n",
    "Centroid 1, C1 = (3.14,6)<br>\n",
    "Centroid 2, C2 = (9.86,5.43)<br>"
   ]
  },
  {
   "cell_type": "code",
   "execution_count": 17,
   "id": "16422c9c",
   "metadata": {},
   "outputs": [
    {
     "name": "stdout",
     "output_type": "stream",
     "text": [
      "3.6850508816025864\n",
      "9.552198699775879\n"
     ]
    }
   ],
   "source": [
    "# EUCLIDEAN DISTANCE FOR POINT P1=(1, 9), CENTROIDS=(3.14,6) AND (9.86,5.43)\n",
    "E1 = calculateEuclideanDistance(3.14, 6, 1, 9)\n",
    "print(E1)\n",
    "E2 = calculateEuclideanDistance(9.86, 5.43, 1, 9)\n",
    "print(E2)"
   ]
  },
  {
   "cell_type": "markdown",
   "id": "b7932580",
   "metadata": {},
   "source": [
    "Since **E1 < E2**, P1(1,9) will become part of cluster K1 representing C1 as centroid<br>\n",
    "Therefore,<br>\n",
    "K1 = {P1(1,9)}<br>\n",
    "K2 = {}<br>"
   ]
  },
  {
   "cell_type": "code",
   "execution_count": 18,
   "id": "06060d76",
   "metadata": {},
   "outputs": [
    {
     "name": "stdout",
     "output_type": "stream",
     "text": [
      "5.12831356295615\n",
      "9.022444236458321\n"
     ]
    }
   ],
   "source": [
    "# EUCLIDEAN DISTANCE FOR POINT P2=(2, 1), CENTROIDS=(3.14,6) AND (9.86,5.43)\n",
    "E1 = calculateEuclideanDistance(3.14, 6, 2, 1)\n",
    "print(E1)\n",
    "E2 = calculateEuclideanDistance(9.86, 5.43, 2, 1)\n",
    "print(E2)"
   ]
  },
  {
   "cell_type": "markdown",
   "id": "866d95d6",
   "metadata": {},
   "source": [
    "Since **E1 < E2**, P2(2,1) will become part of cluster K1 representing C1 as centroid<br>\n",
    "Therefore,<br>\n",
    "K1 = {P1(1,9),P2(2,1)}<br>\n",
    "K2 = {}<br>"
   ]
  },
  {
   "cell_type": "code",
   "execution_count": 19,
   "id": "49d8d81f",
   "metadata": {},
   "outputs": [
    {
     "name": "stdout",
     "output_type": "stream",
     "text": [
      "3.0032648900821255\n",
      "7.733336925286522\n"
     ]
    }
   ],
   "source": [
    "# EUCLIDEAN DISTANCE FOR POINT P3=(3, 9), CENTROIDS=(3.14,6) AND (9.86,5.43)\n",
    "E1 = calculateEuclideanDistance(3.14, 6, 3, 9)\n",
    "print(E1)\n",
    "E2 = calculateEuclideanDistance(9.86, 5.43, 3, 9)\n",
    "print(E2)"
   ]
  },
  {
   "cell_type": "markdown",
   "id": "f3784eb2",
   "metadata": {},
   "source": [
    "Since **E1 < E2**, P3(3,9) will become part of cluster K1 representing C1 as centroid<br>\n",
    "Therefore,<br>\n",
    "K1 = {P1(1,9),P2(2,1),P3(3,9)}<br>\n",
    "K2 = {}<br>"
   ]
  },
  {
   "cell_type": "code",
   "execution_count": 20,
   "id": "3ead5f0c",
   "metadata": {},
   "outputs": [
    {
     "name": "stdout",
     "output_type": "stream",
     "text": [
      "3.120833222073874\n",
      "6.861814628799002\n"
     ]
    }
   ],
   "source": [
    "# EUCLIDEAN DISTANCE FOR POINT P4=(4, 9), CENTROIDS=(3.14,6) AND (9.86,5.43)\n",
    "E1 = calculateEuclideanDistance(3.14, 6, 4, 9)\n",
    "print(E1)\n",
    "E2 = calculateEuclideanDistance(9.86, 5.43, 4, 9)\n",
    "print(E2)"
   ]
  },
  {
   "cell_type": "markdown",
   "id": "1f424950",
   "metadata": {},
   "source": [
    "Since **E1 < E2**, P4(4,9) will become part of cluster K1 representing C1 as centroid<br>\n",
    "Therefore,<br>\n",
    "K1 = {P1(1,9),P2(2,1),P3(3,9),P4(4,9)}<br>\n",
    "K2 = {}<br>"
   ]
  },
  {
   "cell_type": "code",
   "execution_count": 21,
   "id": "aede18bf",
   "metadata": {},
   "outputs": [
    {
     "name": "stdout",
     "output_type": "stream",
     "text": [
      "2.1117765033260505\n",
      "5.107298698920986\n"
     ]
    }
   ],
   "source": [
    "# EUCLIDEAN DISTANCE FOR POINT P5=(5, 7), CENTROIDS=(3.14,6) AND (9.86,5.43)\n",
    "E1 = calculateEuclideanDistance(3.14, 6, 5, 7)\n",
    "print(E1)\n",
    "E2 = calculateEuclideanDistance(9.86, 5.43, 5, 7)\n",
    "print(E2)"
   ]
  },
  {
   "cell_type": "markdown",
   "id": "21b0adf8",
   "metadata": {},
   "source": [
    "Since **E1 < E2**, P5(5,7) will become part of cluster K1 representing C1 as centroid<br>\n",
    "Therefore,<br>\n",
    "K1 = {P1(1,9),P2(2,1),P3(3,9),P4(4,9),P5(5,7)}<br>\n",
    "K2 = {}<br>"
   ]
  },
  {
   "cell_type": "code",
   "execution_count": 22,
   "id": "ea33c0a8",
   "metadata": {},
   "outputs": [
    {
     "name": "stdout",
     "output_type": "stream",
     "text": [
      "4.9172756684977506\n",
      "5.163768004083839\n"
     ]
    }
   ],
   "source": [
    "# EUCLIDEAN DISTANCE FOR POINT P6=(6, 2), CENTROIDS=(3.14,6) AND (9.86,5.43)\n",
    "E1 = calculateEuclideanDistance(3.14, 6, 6, 2)\n",
    "print(E1)\n",
    "E2 = calculateEuclideanDistance(9.86, 5.43, 6, 2)\n",
    "print(E2)"
   ]
  },
  {
   "cell_type": "markdown",
   "id": "afca16b3",
   "metadata": {},
   "source": [
    "Since **E1 < E2**, P6(6,2) will become part of cluster K1 representing C1 as centroid<br>\n",
    "Therefore,<br>\n",
    "K1 = {P1(1,9),P2(2,1),P3(3,9),P4(4,9),P5(5,7),P6(6,2)}<br>\n",
    "K2 = {}<br>"
   ]
  },
  {
   "cell_type": "code",
   "execution_count": 23,
   "id": "a5c10c3f",
   "metadata": {},
   "outputs": [
    {
     "name": "stdout",
     "output_type": "stream",
     "text": [
      "4.347367019242797\n",
      "3.845061768034422\n"
     ]
    }
   ],
   "source": [
    "# EUCLIDEAN DISTANCE FOR POINT P7=(7, 8), CENTROIDS=(3.14,6) AND (9.86,5.43)\n",
    "E1 = calculateEuclideanDistance(3.14, 6, 7, 8)\n",
    "print(E1)\n",
    "E2 = calculateEuclideanDistance(9.86, 5.43, 7, 8)\n",
    "print(E2)"
   ]
  },
  {
   "cell_type": "markdown",
   "id": "9ab5ffdd",
   "metadata": {},
   "source": [
    "Since **E2 < E1**, P7(7,8) will become part of cluster K2 representing C2 as centroid<br>\n",
    "Therefore,<br>\n",
    "K1 = {P1(1,9), P2(2,1), P3(3,9), P4(4,9), P5(5,7), P6(6,2)}<br>\n",
    "K2 = {P7(7,8)}<br>"
   ]
  },
  {
   "cell_type": "code",
   "execution_count": 24,
   "id": "d3a6d7a2",
   "metadata": {},
   "outputs": [
    {
     "name": "stdout",
     "output_type": "stream",
     "text": [
      "4.961814184348301\n",
      "2.4340295807569796\n"
     ]
    }
   ],
   "source": [
    "# EUCLIDEAN DISTANCE FOR POINT P8=(8, 7), CENTROIDS=(3.14,6) AND (9.86,5.43)\n",
    "E1 = calculateEuclideanDistance(3.14, 6, 8, 7)\n",
    "print(E1)\n",
    "E2 = calculateEuclideanDistance(9.86, 5.43, 8, 7)\n",
    "print(E2)"
   ]
  },
  {
   "cell_type": "markdown",
   "id": "580151db",
   "metadata": {},
   "source": [
    "Since **E2 < E1**, P8(8,7) will become part of cluster K2 representing C2 as centroid<br>\n",
    "Therefore,<br>\n",
    "K1 = {P1(1,9), P2(2,1), P3(3,9), P4(4,9), P5(5,7), P6(6,2)}<br>\n",
    "K2 = {P7(7,8), P8(8,7)}<br>"
   ]
  },
  {
   "cell_type": "code",
   "execution_count": 25,
   "id": "beec4b51",
   "metadata": {},
   "outputs": [
    {
     "name": "stdout",
     "output_type": "stream",
     "text": [
      "5.9447119358300275\n",
      "0.961509230324909\n"
     ]
    }
   ],
   "source": [
    "# EUCLIDEAN DISTANCE FOR POINT P9=(9, 5), CENTROIDS=(3.14,6) AND (9.86,5.43)\n",
    "E1 = calculateEuclideanDistance(3.14, 6, 9, 5)\n",
    "print(E1)\n",
    "E2 = calculateEuclideanDistance(9.86, 5.43, 9, 5)\n",
    "print(E2)"
   ]
  },
  {
   "cell_type": "markdown",
   "id": "dafb8373",
   "metadata": {},
   "source": [
    "Since **E2 < E1**, P9(9,5) will become part of cluster K2 representing C2 as centroid<br>\n",
    "Therefore,<br>\n",
    "K1 = {P1(1,9), P2(2,1), P3(3,9), P4(4,9), P5(5,7), P6(6,2)}<br>\n",
    "K2 = {P7(7,8), P8(8,7), P9(9,5)}<br>"
   ]
  },
  {
   "cell_type": "code",
   "execution_count": 26,
   "id": "9919e06f",
   "metadata": {},
   "outputs": [
    {
     "name": "stdout",
     "output_type": "stream",
     "text": [
      "7.145600044782802\n",
      "1.4368368035375483\n"
     ]
    }
   ],
   "source": [
    "# EUCLIDEAN DISTANCE FOR POINT P10=(10, 4), CENTROIDS=(3.14,6) AND (9.86,5.43)\n",
    "E1 = calculateEuclideanDistance(3.14, 6, 10, 4)\n",
    "print(E1)\n",
    "E2 = calculateEuclideanDistance(9.86, 5.43, 10, 4)\n",
    "print(E2)"
   ]
  },
  {
   "cell_type": "markdown",
   "id": "05b3bed4",
   "metadata": {},
   "source": [
    "Since **E2 < E1**, P10(10,4) will become part of cluster K2 representing C2 as centroid<br>\n",
    "Therefore,<br>\n",
    "K1 = {P1(1,9), P2(2,1), P3(3,9), P4(4,9), P5(5,7), P6(6,2)}<br>\n",
    "K2 = {P7(7,8), P8(8,7), P9(9,5), P10(10,4)}<br>"
   ]
  },
  {
   "cell_type": "code",
   "execution_count": 27,
   "id": "b63106ea",
   "metadata": {},
   "outputs": [
    {
     "name": "stdout",
     "output_type": "stream",
     "text": [
      "8.413061273995334\n",
      "3.7475992315080866\n"
     ]
    }
   ],
   "source": [
    "# EUCLIDEAN DISTANCE FOR POINT P11=(11, 9), CENTROIDS=(3.14,6) AND (9.86,5.43)\n",
    "E1 = calculateEuclideanDistance(3.14, 6, 11, 9)\n",
    "print(E1)\n",
    "E2 = calculateEuclideanDistance(9.86, 5.43, 11, 9)\n",
    "print(E2)"
   ]
  },
  {
   "cell_type": "markdown",
   "id": "5dc88251",
   "metadata": {},
   "source": [
    "Since **E2 < E1**, P11(11,9) will become part of cluster K2 representing C2 as centroid<br>\n",
    "Therefore,<br>\n",
    "K1 = {P1(1,9), P2(2,1), P3(3,9), P4(4,9), P5(5,7), P6(6,2)}<br>\n",
    "K2 = {P7(7,8), P8(8,7), P9(9,5), P10(10,4), P11(11,9)}<br>"
   ]
  },
  {
   "cell_type": "code",
   "execution_count": 28,
   "id": "eed8172f",
   "metadata": {},
   "outputs": [
    {
     "name": "stdout",
     "output_type": "stream",
     "text": [
      "10.700448588727483\n",
      "5.836480103624101\n"
     ]
    }
   ],
   "source": [
    "# EUCLIDEAN DISTANCE FOR POINT P12=(12, 0), CENTROIDS=(3.14,6) AND (9.86,5.43)\n",
    "E1 = calculateEuclideanDistance(3.14, 6, 12, 0)\n",
    "print(E1)\n",
    "E2 = calculateEuclideanDistance(9.86, 5.43, 12, 0)\n",
    "print(E2)"
   ]
  },
  {
   "cell_type": "markdown",
   "id": "b42a29b9",
   "metadata": {},
   "source": [
    "Since **E2 < E1**, P12(12,0) will become part of cluster K2 representing C2 as centroid<br>\n",
    "Therefore,<br>\n",
    "K1 = {P1(1,9), P2(2,1), P3(3,9), P4(4,9), P5(5,7), P6(6,2)}<br>\n",
    "K2 = {P7(7,8), P8(8,7), P9(9,5), P10(10,4), P11(11,9), P12(12,0)}<br>"
   ]
  },
  {
   "cell_type": "markdown",
   "id": "0b03c0a9",
   "metadata": {},
   "source": [
    "New Centroid Formula = [ Sum ( Respective Cluster Points ( of K1 or K2 ) + Current Centroid ) / Count ( Cluster Points + 1 ) ]<br>\n",
    "Centroid C1(1,5) becomes ((1+2+3+4+5+6+3.14)/7,(9+1+9+9+7+2+6)/7) => **new C1 is (3.49,6.14)**<br>\n",
    "Centroid C2(12,5) becomes ((7+8+9+10+11+12+9.86)/7,(8+7+5+4+9+0+5.43)/7) => **new C2 is (9.55,5.49)**<br>"
   ]
  },
  {
   "cell_type": "code",
   "execution_count": 29,
   "id": "b31e2cf7",
   "metadata": {
    "scrolled": true
   },
   "outputs": [
    {
     "data": {
      "image/png": "[encoded data removed]",
      "text/plain": [
       "<Figure size 432x288 with 1 Axes>"
      ]
     },
     "metadata": {
      "needs_background": "light"
     },
     "output_type": "display_data"
    }
   ],
   "source": [
    "# PLOTTING THE DATAPOINTS ALONG WITH NEW CENTROIDS\n",
    "figure, axes = plt.subplots()\n",
    "circle1 = plt.Circle((3.49, 6.14), 3.8, fill = False)\n",
    "circle2 = plt.Circle((9.55, 5.49), 3.8, fill = False)\n",
    "axes.set_aspect(1)\n",
    "axes.add_artist(circle1)\n",
    "axes.add_artist(circle2)\n",
    "plt.scatter(x,y,color='blue',s=8)\n",
    "plt.scatter(3.49, 6.14, s=150, c='r', marker='*')\n",
    "plt.scatter(9.55, 5.49, s=150, c='y', marker='*')\n",
    "plt.show()"
   ]
  },
  {
   "cell_type": "markdown",
   "id": "3a55fe7e",
   "metadata": {},
   "source": [
    "## ITERATION 3\n",
    "Centroid 1, C1 = (3.49,6.14)<br>\n",
    "Centroid 2, C2 = (9.55,5.49)<br>"
   ]
  },
  {
   "cell_type": "code",
   "execution_count": 30,
   "id": "d6021710",
   "metadata": {},
   "outputs": [
    {
     "name": "stdout",
     "output_type": "stream",
     "text": [
      "3.792057489015693\n",
      "9.242434744156975\n"
     ]
    }
   ],
   "source": [
    "# EUCLIDEAN DISTANCE FOR POINT P1=(1, 9), CENTROIDS=(3.49,6.14) AND (9.55,5.49)\n",
    "E1 = calculateEuclideanDistance(3.49, 6.14, 1, 9)\n",
    "print(E1)\n",
    "E2 = calculateEuclideanDistance(9.55, 5.49, 1, 9)\n",
    "print(E2)"
   ]
  },
  {
   "cell_type": "markdown",
   "id": "7f435a06",
   "metadata": {},
   "source": [
    "Since **E1 < E2**, P1(1,9) will become part of cluster K1 representing C1 as centroid<br>\n",
    "Therefore,<br>\n",
    "K1 = {P1(1,9)}<br>\n",
    "K2 = {}<br>"
   ]
  },
  {
   "cell_type": "code",
   "execution_count": 31,
   "id": "17e49260",
   "metadata": {},
   "outputs": [
    {
     "name": "stdout",
     "output_type": "stream",
     "text": [
      "5.351607235214482\n",
      "8.784224496220483\n"
     ]
    }
   ],
   "source": [
    "# EUCLIDEAN DISTANCE FOR POINT P2=(2, 1), CENTROIDS=(3.49,6.14) AND (9.55,5.49)\n",
    "E1 = calculateEuclideanDistance(3.49, 6.14, 2, 1)\n",
    "print(E1)\n",
    "E2 = calculateEuclideanDistance(9.55, 5.49, 2, 1)\n",
    "print(E2)"
   ]
  },
  {
   "cell_type": "markdown",
   "id": "f1542586",
   "metadata": {},
   "source": [
    "Since **E1 < E2**, P2(2,1) will become part of cluster K1 representing C1 as centroid<br>\n",
    "Therefore,<br>\n",
    "K1 = {P1(1,9),P2(2,1)}<br>\n",
    "K2 = {}<br>"
   ]
  },
  {
   "cell_type": "code",
   "execution_count": 32,
   "id": "dbb181c4",
   "metadata": {},
   "outputs": [
    {
     "name": "stdout",
     "output_type": "stream",
     "text": [
      "2.9016719318351623\n",
      "7.431191021633074\n"
     ]
    }
   ],
   "source": [
    "# EUCLIDEAN DISTANCE FOR POINT P3=(3, 9), CENTROIDS=(3.49,6.14) AND (9.55,5.49)\n",
    "E1 = calculateEuclideanDistance(3.49, 6.14, 3, 9)\n",
    "print(E1)\n",
    "E2 = calculateEuclideanDistance(9.55, 5.49, 3, 9)\n",
    "print(E2)"
   ]
  },
  {
   "cell_type": "markdown",
   "id": "1cef57c9",
   "metadata": {},
   "source": [
    "Since **E1 < E2**, P3(3,9) will become part of cluster K1 representing C1 as centroid<br>\n",
    "Therefore,<br>\n",
    "K1 = {P1(1,9),P2(2,1),P3(3,9)}<br>\n",
    "K2 = {}<br>"
   ]
  },
  {
   "cell_type": "code",
   "execution_count": 33,
   "id": "3a14f2a1",
   "metadata": {},
   "outputs": [
    {
     "name": "stdout",
     "output_type": "stream",
     "text": [
      "2.9051161766786544\n",
      "6.566780032862377\n"
     ]
    }
   ],
   "source": [
    "# EUCLIDEAN DISTANCE FOR POINT P4=(4, 9), CENTROIDS=(3.49,6.14) AND (9.55,5.49)\n",
    "E1 = calculateEuclideanDistance(3.49, 6.14, 4, 9)\n",
    "print(E1)\n",
    "E2 = calculateEuclideanDistance(9.55, 5.49, 4, 9)\n",
    "print(E2)"
   ]
  },
  {
   "cell_type": "markdown",
   "id": "39e55090",
   "metadata": {},
   "source": [
    "Since **E1 < E2**, P4(4,9) will become part of cluster K1 representing C1 as centroid<br>\n",
    "Therefore,<br>\n",
    "K1 = {P1(1,9),P2(2,1),P3(3,9),P4(4,9)}<br>\n",
    "K2 = {}<br>"
   ]
  },
  {
   "cell_type": "code",
   "execution_count": 34,
   "id": "14b08a37",
   "metadata": {},
   "outputs": [
    {
     "name": "stdout",
     "output_type": "stream",
     "text": [
      "1.7377284022539312\n",
      "4.794017104683713\n"
     ]
    }
   ],
   "source": [
    "# EUCLIDEAN DISTANCE FOR POINT P5=(5, 7), CENTROIDS=(3.49,6.14) AND (9.55,5.49)\n",
    "E1 = calculateEuclideanDistance(3.49, 6.14, 5, 7)\n",
    "print(E1)\n",
    "E2 = calculateEuclideanDistance(9.55, 5.49, 5, 7)\n",
    "print(E2)"
   ]
  },
  {
   "cell_type": "markdown",
   "id": "27187c86",
   "metadata": {},
   "source": [
    "Since **E1 < E2**, P5(5,7) will become part of cluster K1 representing C1 as centroid<br>\n",
    "Therefore,<br>\n",
    "K1 = {P1(1,9),P2(2,1),P3(3,9),P4(4,9),P5(5,7)}<br>\n",
    "K2 = {}<br>"
   ]
  },
  {
   "cell_type": "code",
   "execution_count": 35,
   "id": "d7a0ef48",
   "metadata": {},
   "outputs": [
    {
     "name": "stdout",
     "output_type": "stream",
     "text": [
      "4.841456392450519\n",
      "4.9782125306177925\n"
     ]
    }
   ],
   "source": [
    "# EUCLIDEAN DISTANCE FOR POINT P6=(6, 2), CENTROIDS=(3.49,6.14) AND (9.55,5.49)\n",
    "E1 = calculateEuclideanDistance(3.49, 6.14, 6, 2)\n",
    "print(E1)\n",
    "E2 = calculateEuclideanDistance(9.55, 5.49, 6, 2)\n",
    "print(E2)"
   ]
  },
  {
   "cell_type": "markdown",
   "id": "c8c98825",
   "metadata": {},
   "source": [
    "Since **E1 < E2**, P6(6,2) will become part of cluster K1 representing C1 as centroid<br>\n",
    "Therefore,<br>\n",
    "K1 = {P1(1,9),P2(2,1),P3(3,9),P4(4,9),P5(5,7),P6(6,2)}<br>\n",
    "K2 = {}<br>"
   ]
  },
  {
   "cell_type": "code",
   "execution_count": 36,
   "id": "76995d80",
   "metadata": {},
   "outputs": [
    {
     "name": "stdout",
     "output_type": "stream",
     "text": [
      "3.9723670525267427\n",
      "3.578072106595953\n"
     ]
    }
   ],
   "source": [
    "# EUCLIDEAN DISTANCE FOR POINT P7=(7, 8), CENTROIDS=(3.49,6.14) AND (9.55,5.49)\n",
    "E1 = calculateEuclideanDistance(3.49, 6.14, 7, 8)\n",
    "print(E1)\n",
    "E2 = calculateEuclideanDistance(9.55, 5.49, 7, 8)\n",
    "print(E2)"
   ]
  },
  {
   "cell_type": "markdown",
   "id": "8d7eb092",
   "metadata": {},
   "source": [
    "Since **E2 < E1**, P7(7,8) will become part of cluster K2 representing C2 as centroid<br>\n",
    "Therefore,<br>\n",
    "K1 = {P1(1,9), P2(2,1), P3(3,9), P4(4,9), P5(5,7), P6(6,2)}<br>\n",
    "K2 = {P7(7,8)}<br>"
   ]
  },
  {
   "cell_type": "code",
   "execution_count": 37,
   "id": "a80acc67",
   "metadata": {},
   "outputs": [
    {
     "name": "stdout",
     "output_type": "stream",
     "text": [
      "4.59126344267022\n",
      "2.163931607052312\n"
     ]
    }
   ],
   "source": [
    "# EUCLIDEAN DISTANCE FOR POINT P8=(8, 7), CENTROIDS=(3.49,6.14) AND (9.55,5.49)\n",
    "E1 = calculateEuclideanDistance(3.49, 6.14, 8, 7)\n",
    "print(E1)\n",
    "E2 = calculateEuclideanDistance(9.55, 5.49, 8, 7)\n",
    "print(E2)"
   ]
  },
  {
   "cell_type": "markdown",
   "id": "fb57a1a8",
   "metadata": {},
   "source": [
    "Since **E2 < E1**, P8(8,7) will become part of cluster K2 representing C2 as centroid<br>\n",
    "Therefore,<br>\n",
    "K1 = {P1(1,9), P2(2,1), P3(3,9), P4(4,9), P5(5,7), P6(6,2)}<br>\n",
    "K2 = {P7(7,8), P8(8,7)}<br>"
   ]
  },
  {
   "cell_type": "code",
   "execution_count": 38,
   "id": "c81ec04c",
   "metadata": {},
   "outputs": [
    {
     "name": "stdout",
     "output_type": "stream",
     "text": [
      "5.626695300085122\n",
      "0.7366138744281165\n"
     ]
    }
   ],
   "source": [
    "# EUCLIDEAN DISTANCE FOR POINT P9=(9, 5), CENTROIDS=(3.49,6.14) AND (9.55,5.49)\n",
    "E1 = calculateEuclideanDistance(3.49, 6.14, 9, 5)\n",
    "print(E1)\n",
    "E2 = calculateEuclideanDistance(9.55, 5.49, 9, 5)\n",
    "print(E2)"
   ]
  },
  {
   "cell_type": "markdown",
   "id": "9a8d2d63",
   "metadata": {},
   "source": [
    "Since **E2 < E1**, P9(9,5) will become part of cluster K2 representing C2 as centroid<br>\n",
    "Therefore,<br>\n",
    "K1 = {P1(1,9), P2(2,1), P3(3,9), P4(4,9), P5(5,7), P6(6,2)}<br>\n",
    "K2 = {P7(7,8), P8(8,7), P9(9,5)}<br>"
   ]
  },
  {
   "cell_type": "code",
   "execution_count": 39,
   "id": "0d04d6e4",
   "metadata": {},
   "outputs": [
    {
     "name": "stdout",
     "output_type": "stream",
     "text": [
      "6.852714790504563\n",
      "1.5564703659241317\n"
     ]
    }
   ],
   "source": [
    "# EUCLIDEAN DISTANCE FOR POINT P10=(10, 4), CENTROIDS=(3.49,6.14) AND (9.55,5.49)\n",
    "E1 = calculateEuclideanDistance(3.49, 6.14, 10, 4)\n",
    "print(E1)\n",
    "E2 = calculateEuclideanDistance(9.55, 5.49, 10, 4)\n",
    "print(E2)"
   ]
  },
  {
   "cell_type": "markdown",
   "id": "393f8eef",
   "metadata": {},
   "source": [
    "Since **E2 < E1**, P10(10,4) will become part of cluster K2 representing C2 as centroid<br>\n",
    "Therefore,<br>\n",
    "K1 = {P1(1,9), P2(2,1), P3(3,9), P4(4,9), P5(5,7), P6(6,2)}<br>\n",
    "K2 = {P7(7,8), P8(8,7), P9(9,5), P10(10,4)}<br>"
   ]
  },
  {
   "cell_type": "code",
   "execution_count": 40,
   "id": "1154b0e4",
   "metadata": {},
   "outputs": [
    {
     "name": "stdout",
     "output_type": "stream",
     "text": [
      "8.036149575511894\n",
      "3.7977098362039188\n"
     ]
    }
   ],
   "source": [
    "# EUCLIDEAN DISTANCE FOR POINT P11=(11, 9), CENTROIDS=(3.49,6.14) AND (9.55,5.49)\n",
    "E1 = calculateEuclideanDistance(3.49, 6.14, 11, 9)\n",
    "print(E1)\n",
    "E2 = calculateEuclideanDistance(9.55, 5.49, 11, 9)\n",
    "print(E2)"
   ]
  },
  {
   "cell_type": "markdown",
   "id": "19fd6411",
   "metadata": {},
   "source": [
    "Since **E2 < E1**, P11(11,9) will become part of cluster K2 representing C2 as centroid<br>\n",
    "Therefore,<br>\n",
    "K1 = {P1(1,9), P2(2,1), P3(3,9), P4(4,9), P5(5,7), P6(6,2)}<br>\n",
    "K2 = {P7(7,8), P8(8,7), P9(9,5), P10(10,4), P11(11,9)}<br>"
   ]
  },
  {
   "cell_type": "code",
   "execution_count": 41,
   "id": "86b0597c",
   "metadata": {},
   "outputs": [
    {
     "name": "stdout",
     "output_type": "stream",
     "text": [
      "10.49379340372203\n",
      "6.01187158878165\n"
     ]
    }
   ],
   "source": [
    "# EUCLIDEAN DISTANCE FOR POINT P12=(12, 0), CENTROIDS=(3.49,6.14) AND (9.55,5.49)\n",
    "E1 = calculateEuclideanDistance(3.49, 6.14, 12, 0)\n",
    "print(E1)\n",
    "E2 = calculateEuclideanDistance(9.55, 5.49, 12, 0)\n",
    "print(E2)"
   ]
  },
  {
   "cell_type": "markdown",
   "id": "9eefcdba",
   "metadata": {},
   "source": [
    "Since **E2 < E1**, P12(12,0) will become part of cluster K2 representing C2 as centroid<br>\n",
    "Therefore,<br>\n",
    "K1 = {P1(1,9), P2(2,1), P3(3,9), P4(4,9), P5(5,7), P6(6,2)}<br>\n",
    "K2 = {P7(7,8), P8(8,7), P9(9,5), P10(10,4), P11(11,9), P12(12,0)}<br>"
   ]
  },
  {
   "cell_type": "markdown",
   "id": "f064c17d",
   "metadata": {},
   "source": [
    "New Centroid Formula = [ Sum ( Respective Cluster Points ( of K1 or K2 ) + Current Centroid ) / Count ( Cluster Points + 1 ) ]<br>\n",
    "Centroid C1(1,5) becomes ((1+2+3+4+5+6+3.49)/7,(9+1+9+9+7+2+6.14)/7) => **new C1 is (3.49,6.16)**<br>\n",
    "Centroid C2(12,5) becomes ((7+8+9+10+11+12+9.55)/7,(8+7+5+4+9+0+5.49)/7) => **new C2 is (9.51,5.50)**<br>"
   ]
  },
  {
   "cell_type": "code",
   "execution_count": 42,
   "id": "099a42b0",
   "metadata": {
    "scrolled": true
   },
   "outputs": [
    {
     "data": {
      "image/png": "[encoded data removed]",
      "text/plain": [
       "<Figure size 432x288 with 1 Axes>"
      ]
     },
     "metadata": {
      "needs_background": "light"
     },
     "output_type": "display_data"
    }
   ],
   "source": [
    "# PLOTTING THE DATAPOINTS ALONG WITH NEW CENTROIDS\n",
    "figure, axes = plt.subplots()\n",
    "circle1 = plt.Circle((3.49, 6.16), 3.8, fill = False)\n",
    "circle2 = plt.Circle((9.51, 5.50), 3.8, fill = False)\n",
    "axes.set_aspect(1)\n",
    "axes.add_artist(circle1)\n",
    "axes.add_artist(circle2)\n",
    "plt.scatter(x,y,color='blue',s=8)\n",
    "plt.scatter(3.49, 6.16, s=150, c='r', marker='*')\n",
    "plt.scatter(9.51, 5.50, s=150, c='y', marker='*')\n",
    "plt.show()"
   ]
  },
  {
   "cell_type": "markdown",
   "id": "82fa6564",
   "metadata": {},
   "source": [
    "##### Initial Centroids\n",
    "C1 = (1,5)<br>\n",
    "C2 = (12,5)<br>\n",
    "\n",
    "##### Centroids after Iteration 1\n",
    "C1 = (3.49,6.14)<br>\n",
    "C2 = (9.55,5.49)<br>\n",
    "\n",
    "##### Centroids after Iteration 2\n",
    "C1 = (3.49,6.16)<br>\n",
    "C2 = (9.51,5.50)<br>\n",
    "\n",
    "We see that the centroids are stabilising at this point, hence the iterations have been stopped here."
   ]
  }
 ],
 "metadata": {
  "kernelspec": {
   "display_name": "Python 3",
   "language": "python",
   "name": "python3"
  },
  "language_info": {
   "codemirror_mode": {
    "name": "ipython",
    "version": 3
   },
   "file_extension": ".py",
   "mimetype": "text/x-python",
   "name": "python",
   "nbconvert_exporter": "python",
   "pygments_lexer": "ipython3",
   "version": "3.7.10"
  }
 },
 "nbformat": 4,
 "nbformat_minor": 5
}
